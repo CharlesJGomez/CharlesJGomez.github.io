{
 "cells": [
  {
   "cell_type": "markdown",
   "metadata": {},
   "source": [
    "# <font face=\"times\"><font size=\"6pt\"><p style = 'text-align: center;'> The City University of New York, Queens College\n",
    "\n",
    "<font face=\"times\"><font size=\"6pt\"><p style = 'text-align: center;'><b>Introduction to Computational Social Science</b><br/><br/>\n",
    "\n",
    "<p style = 'text-align: center;'><font face=\"times\"><b>Lesson 02 | Coding with Python I </b><br/><br/>\n",
    "\n",
    "\n",
    "<p style = 'text-align: center;'><font face=\"times\"><b>12 Checkpoints</b><br/><br/>\n",
    "\n"
   ]
  },
  {
   "cell_type": "markdown",
   "metadata": {},
   "source": [
    "***\n",
    "# Begin Lesson 02"
   ]
  },
  {
   "cell_type": "markdown",
   "metadata": {},
   "source": [
    "## Meet `python`\n",
    "### Why `python`?\n",
    "There are a number of reasons why python is a useful programming language for data science. Some of these are technical. Python happens to be:\n",
    "- fast\n",
    "- modular\n",
    "- object oriented\n",
    "- (relatively) easy to read\n",
    "\n",
    "But python also carries the added benefit of being extremely popular. This may seem like a crass reason for choosing a programming language, but in this case it is important. Much of python's functionality comes from extensions that are written by users, or what python calls libraries. And because python is so popular, it has a ton of libraries to choose from.\n",
    "\n",
    "So from a pragmatic point of view, python is useful for at least two more reasons:\n",
    "- lots of libraries\n",
    "- *gets the job done*\n",
    "\n",
    "One last note: choice of primary programming language should really depend on your preferred style of thinking and tools of choice (e.g., linear models? decision trees?). But you'll never know if it's right (or wrong) for you unless you give it a try!"
   ]
  },
  {
   "cell_type": "markdown",
   "metadata": {},
   "source": [
    "***\n",
    "***\n",
    "\n",
    "## What do you mean by `Python`?\n",
    "`Python` is the name of a programming language. Period. But different people could have different ideas about what '`python`' looks like. Three broad categories *I* have in mind are:\n",
    "\n",
    "1). Running interactive commands with `iPython` (i.e., the glorified calculator). We'll be using this during our in-class session:\n",
    "<img src=Images/ss_python_interp.png width=500>\n",
    "\n",
    "\n",
    "2). `Python` development in some kind of text editor or specialized environment (like Sublime). Similarly, you'll also be using something very similar to this during our in-class session:\n",
    "<img src=Images/ss_python_spyder.png width=500>\n",
    "\n",
    "\n",
    "3). Research-type scripting with `Jupyter Notebook` that allows for heavy documentation and snippets of code (what you'll be using for your homework). That's what you're using right now:\n",
    "<img src=Images/ss_python_notebook.png width=500>\n",
    "\n",
    "\n",
    "For the purpose of a proper \"`Python` introduction\", we'll look at all three flavors, and try to spend more time on the workflow that participants find most relevant to their work/research.\n",
    "\n",
    "(Some of the material for Parts 1 and 2 were adapted from [The Python Tutorial](https://docs.python.org/2/tutorial/))"
   ]
  },
  {
   "cell_type": "markdown",
   "metadata": {},
   "source": [
    "## Anaconda\n",
    "**[Anaconda][anaconda]** is one of many `python` distributions:\n",
    "- it's free (some distributions aren't).\n",
    "- comes pre-installed with a lot of useful libraries\n",
    "- support many different workflows out-of-the-box\n",
    "\n",
    "Think of it as a **\"`python` starter kit\"** as far as I've seen, it's the most painless way to get things up-and-running\n",
    "\n",
    "\n",
    "- download/install from [here](https://store.continuum.io/cshop/anaconda/)\n",
    "[anaconda]: https://store.continuum.io/cshop/anaconda/"
   ]
  },
  {
   "cell_type": "markdown",
   "metadata": {},
   "source": [
    "## `Python` interpreter (i.e., glorified calculator)\n",
    "\n",
    "You can start using `python` right away, by running the `python` interpreter in the command line (Windows) or terminal (OS X / \\*nix)\n",
    "\n",
    "- **Windows**\n",
    " - <kbd>Win</kbd> + <kbd>r</kbd>, type `python` and hit <kbd>OK</kbd> (or <kbd>Enter</kbd>)\n",
    "- **OS X / \\*nix / Linux**\n",
    " - Open a terminal\n",
    " - type `python` and hit <kbd>Enter</kbd>\n",
    " \n",
    "<img src=Images/ss_python_interp_simple.png>"
   ]
  },
  {
   "cell_type": "markdown",
   "metadata": {},
   "source": [
    "***\n",
    "***\n",
    "\n",
    "## Getting to Know your Jupyter Notebook's Toolbar"
   ]
  },
  {
   "cell_type": "markdown",
   "metadata": {
    "slideshow": {
     "slide_type": "fragment"
    }
   },
   "source": [
    "At the top of your Jupyter Notebook window there is a toolbar. It looks like this:"
   ]
  },
  {
   "cell_type": "markdown",
   "metadata": {},
   "source": [
    "![](Images/jupytertoolbar.png)"
   ]
  },
  {
   "cell_type": "markdown",
   "metadata": {
    "slideshow": {
     "slide_type": "fragment"
    }
   },
   "source": [
    "Below is a table which helpfully pairs a picture of each of the items in your toolbar with a corresponding explanation of its function. "
   ]
  },
  {
   "cell_type": "markdown",
   "metadata": {
    "slideshow": {
     "slide_type": "fragment"
    }
   },
   "source": [
    "Button|Function\n",
    "-|-\n",
    "![](Images/jupytertoolbarsave.png)|This is your save button. You can click this button to save your notebook at any time, though keep in mind that Jupyter Notebooks automatically save your progress very frequently.  \n",
    "![](Images/jupytertoolbarnewcell.png)|This is the new cell button. You can click this button any time you want a new cell in your Jupyter Notebook. \n",
    "![](Images/jupytertoolbarcutcell.png)|This is the cut cell button. If you click this button, the cell you currently have selected will be deleted from your Notebook. \n",
    "![](Images/jupytertoolbarcopycell.png)|This is the copy cell button. If you click this button, the currently selected cell will be duplicated and stored in your clipboard. \n",
    "![](Images/jupytertoolbarpastecell.png)|This is the past button. It allows you to paste the duplicated cell from your clipboard into your notebook. \n",
    "![](Images/jupytertoolbarupdown.png)|These buttons allow you to move the location of a selected cell within a Notebook. Simply select the cell you wish to move and click either the up or down button until the cell is in the location you want it to be.\n",
    "![](Images/jupytertoolbarrun.png)|This button will \"run\" your cell, meaning that it will interpret your input and render the output in a way that depends on [what kind of cell] [cell kind] you're using. \n",
    "![](Images/jupytertoolbarstop.png)|This is the stop button. Clicking this button will stop your cell from continuing to run. This tool can be useful if you are trying to execute more complicated code, which can sometimes take a while, and you want to edit the cell before waiting for it to finish rendering. \n",
    "![](Images/jupytertoolbarrestartkernel.png)|This is the restart kernel button. See your kernel documentation for more information.\n",
    "![](Images/jupytertoolbarcellkind.png)|This is a drop down menu which allows you to tell your Notebook how you want it to interpret any given cell. You can read more about the [different kinds of cells] [cell kind] in the following section. \n"
   ]
  },
  {
   "cell_type": "markdown",
   "metadata": {},
   "source": [
    "\n",
    "***\n",
    "## A quick tour of IPython Notebook\n",
    "\n",
    "For our in-class session, we'll be using Jupyter Notebook. It's pretty easy to get used to, once you understand the basics. First, we need to explain how to run cells. \n",
    "\n",
    "Try to run the cell below! Just click on the cell and press the ▶ button above to run it."
   ]
  },
  {
   "cell_type": "code",
   "execution_count": null,
   "metadata": {
    "collapsed": true
   },
   "outputs": [],
   "source": [
    "print(\"Hi! This is a cell. Click on this cell and press the ▶ button above to run it.\")"
   ]
  },
  {
   "cell_type": "markdown",
   "metadata": {},
   "source": [
    "Notice, that the input code cell, which was once represented as: \n",
    "\n",
    "`In [ ]:` \n",
    "\n",
    "has now become: \n",
    "\n",
    "`In [1]:` \n",
    "\n",
    "This means your code in that particular cell has run, and it was the first line of code that ran (hence the `1`). \n",
    "\n",
    "***\n",
    "\n",
    "This code ran quickly. However, sometimes it might take some time. If your code is still running it'll look like this:\n",
    "\n",
    "`In [*]:`\n",
    "\n",
    "That \"star\" in between the brackets means this cell of code is still running. Be on the lookout whenever you run your code in Jupyter Notebook. "
   ]
  },
  {
   "cell_type": "markdown",
   "metadata": {},
   "source": [
    "***\n",
    "## Python Overview\n",
    "\n",
    "This is a general (read quick) introduction to Python. An additional list of useful links appears at the end of this notebook. For more depth, [Python Tutorial](http://docs.python.org/2/tutorial/) is a great place to start, as is Zed Shaw's [Learn Python the Hard Way](http://learnpythonthehardway.org/book/).\n",
    "\n",
    "The lessons that follow make use of the IPython notebooks. There's a good introduction to notebooks [in the IPython notebook documentation](http://ipython.org/notebook.html) that has a [nice video](http://www.youtube.com/watch?v=H6dLGQw9yFQ#!) on how to use the notebooks. You should probably also flip through the [IPython tutorial](http://ipython.org/ipython-doc/dev/interactive/tutorial.html) in your copious free time."
   ]
  },
  {
   "cell_type": "markdown",
   "metadata": {},
   "source": [
    "### First steps\n",
    "A moment ago we used the `print()` function, which outputs the contents of the parentheses back to the user. If ever you run across a command you don't understand (this one is pretty self-explanatory) you can use the `help()` function to get more information. Run the code snippet below to get a sense of how this works.\n"
   ]
  },
  {
   "cell_type": "code",
   "execution_count": null,
   "metadata": {
    "collapsed": true
   },
   "outputs": [],
   "source": [
    "help(print)"
   ]
  },
  {
   "cell_type": "markdown",
   "metadata": {
    "collapsed": true
   },
   "source": [
    "Sometimes you may want to leave notes in your code, whether to clarify what your code means in layman's terms, or how a snippet of code fits into the larger program you have written. In python we do this using hashtags: anything after `#` is ignored until the end of the line. These are called **comments**."
   ]
  },
  {
   "cell_type": "code",
   "execution_count": null,
   "metadata": {
    "collapsed": true
   },
   "outputs": [],
   "source": [
    "# signifies the start of a comment in Python. The comment terminates at the end of the line."
   ]
  },
  {
   "cell_type": "code",
   "execution_count": null,
   "metadata": {
    "collapsed": true
   },
   "outputs": [],
   "source": [
    "\"Hello!\" #The \"Hello!\" here won't print"
   ]
  },
  {
   "cell_type": "code",
   "execution_count": null,
   "metadata": {
    "collapsed": true
   },
   "outputs": [],
   "source": [
    "#\"Hello!\" nothing here will print"
   ]
  },
  {
   "cell_type": "markdown",
   "metadata": {},
   "source": [
    "It's good practice to leave comments for *future* you. But it's also crucial if anyone else is going to review or use your code in the future. Without comments they may not understand what your code is meant to do, and will have to resort to the grueling process of reading each line of code to figure out what you wrote."
   ]
  },
  {
   "cell_type": "markdown",
   "metadata": {},
   "source": [
    "***\n",
    "***\n",
    "\n",
    "### Debugging"
   ]
  },
  {
   "cell_type": "markdown",
   "metadata": {},
   "source": [
    "Most IDEs (integrated development environments), including Anaconda, as well as the IPython implementation in Jupyterhub, provide a debugger that will display the sequence of function calls associated with an error.  Remember that when you run code, you usually \"call\" standard Python functions or functions from various libraries; those, in turn, often call other functions, leading to a long chain of function calls associated with the running of your code.  When an error is reported to you, the sequence of function calls shown in Jupyterhub appears in order -- your code containing the source of the error will appear at the *bottom* of the sequence; above that will be any immediate function that called your code, and above that will be the earlier functions called in the chain of function calls.  So, to figure out what the original source of error is in your code, scroll to the bottom of the error message first."
   ]
  },
  {
   "cell_type": "markdown",
   "metadata": {},
   "source": [
    "As an example, consider the code below which defines a function `plot_sqrt` to plot the sqrt of `x` over the range 0 to 9.  "
   ]
  },
  {
   "cell_type": "code",
   "execution_count": null,
   "metadata": {
    "collapsed": true
   },
   "outputs": [],
   "source": [
    "from numpy import sqrt\n",
    "from matplotlib.pyplot import subplots\n",
    "\n",
    "def plot_sqrt():\n",
    "    fig, ax = subplots(2, 1)\n",
    "    x = range(10)\n",
    "    ax.plot(x, sqrt(x))\n",
    "    plt.show()\n",
    "\n",
    "plot_sqrt()  # Call the function, generate plot"
   ]
  },
  {
   "cell_type": "markdown",
   "metadata": {},
   "source": [
    "If we look at the output, we see the error:\n",
    "\n",
    "`'numpy.ndarray' object has no attribute 'plot'`.   \n",
    "\n",
    "What this message means is not critical to our discussion, but note that it's arising in the line shown by the long (lower) arrow, where the code `ax.plot(x, sqrt(x))` says to plot `x` versus its square root.  Above that section of the error message is another section containing a shorter arrow pointing to the line `plot_sqrt()` which called our code. \n",
    "\n",
    "So, to recap, the error message shows us that the error itself was in the line `ax.plot(x, sqrt(x))`, but that line was called by the function `plot_sqrt()`, so that sequence of function calls (first to `plot_sqrt`, then to `ax.plot`) is what the debugger gives us.  Generally, we care only about the last section of the message -- the location in our code of our original error."
   ]
  },
  {
   "cell_type": "markdown",
   "metadata": {},
   "source": [
    "As this example might suggest, Python error messages aren't always clear, but as you see more of them you'll get used to figuring out what the problem with your code actually is."
   ]
  },
  {
   "cell_type": "markdown",
   "metadata": {},
   "source": [
    "***\n",
    "***\n",
    "\n",
    "### Advanced Arthmetic and Other Operators\n",
    "\n",
    "Most of your numerical needs will fall into two types: integers (1, 2, ...) and floating point (0.5, 1.75, ...). \n",
    "Let's start with some basic calculations:"
   ]
  },
  {
   "cell_type": "markdown",
   "metadata": {},
   "source": [
    "Add numbers: "
   ]
  },
  {
   "cell_type": "code",
   "execution_count": null,
   "metadata": {
    "collapsed": true
   },
   "outputs": [],
   "source": [
    "296719 + 445567"
   ]
  },
  {
   "cell_type": "markdown",
   "metadata": {},
   "source": [
    "Substract numbers:"
   ]
  },
  {
   "cell_type": "code",
   "execution_count": null,
   "metadata": {
    "collapsed": true
   },
   "outputs": [],
   "source": [
    "762301 - 162379"
   ]
  },
  {
   "cell_type": "markdown",
   "metadata": {},
   "source": [
    "Multilpy numbers:"
   ]
  },
  {
   "cell_type": "code",
   "execution_count": null,
   "metadata": {
    "collapsed": true
   },
   "outputs": [],
   "source": [
    "148501 * 220131"
   ]
  },
  {
   "cell_type": "markdown",
   "metadata": {},
   "source": [
    "And divide numbers:"
   ]
  },
  {
   "cell_type": "code",
   "execution_count": null,
   "metadata": {
    "collapsed": true
   },
   "outputs": [],
   "source": [
    "1 / 10"
   ]
  },
  {
   "cell_type": "markdown",
   "metadata": {},
   "source": [
    "Let's try some more complicated operations:"
   ]
  },
  {
   "cell_type": "code",
   "execution_count": null,
   "metadata": {
    "collapsed": true
   },
   "outputs": [],
   "source": [
    "2 + 43.2 * 6"
   ]
  },
  {
   "cell_type": "code",
   "execution_count": null,
   "metadata": {
    "collapsed": true
   },
   "outputs": [],
   "source": [
    "(8.7 - 3.3) / 4"
   ]
  },
  {
   "cell_type": "markdown",
   "metadata": {},
   "source": [
    "The `**` symbol raises a number to a power.  Note that it's good practice to use spaces to separate the different terms in a mathematical expression, including the operators (the power and division symbols).  The parentheses in the second expression are not necessary, but they do improve readability.  Learning to create ***readable*** code should be one of your main goals in this course!"
   ]
  },
  {
   "cell_type": "code",
   "execution_count": null,
   "metadata": {
    "collapsed": true
   },
   "outputs": [],
   "source": [
    "(2.6 ** -2.65) / 7.9"
   ]
  },
  {
   "cell_type": "markdown",
   "metadata": {},
   "source": [
    "\n",
    "Computers generally recognize several data types, two of which appear above: `integers` (often referred to just as \"int's\") which have their usual meaning (..., -2, -1, 0, 1, 2,...) ; and floating-point numbers (aka, `floats`) also known (incorrectly) as *decimal numbers* to the rest of the world.  In a computer, different types of numbers generally require different amounts of memory for storage, and offer different levels of precision.  (E.g., one can have 32-bit or 64-bit floating-point numbers.)\n",
    "\n",
    "In short, `integers` are whole-numbers and `floats` aren't, but it also has to do with how much memory each is taking up in the computer. (`Floats` use more memory because they can store decimals and are more precise as a result.)\n",
    "\n",
    "***NOTE***: generally speaking, unless you know that a certain parameter/constant/variable will be an integer, you should define it as a floating point number."
   ]
  },
  {
   "cell_type": "markdown",
   "metadata": {},
   "source": [
    "***\n",
    "****\n",
    "\n",
    "# Checkpoint 1 of 12\n",
    "\n",
    "## Now you try! This is your first checkpoint. There will be several in every notebook. Use the cells below and complete the checkpoint. You can add as many cells as you'd like. \n",
    "\n",
    "### In the cell below, execute a series of arthematic operations on any numbers you'd like, just be sure to use the following:\n",
    "- Division\n",
    "- Raise the number to the power of some number\n",
    "- Subtraction"
   ]
  },
  {
   "cell_type": "code",
   "execution_count": null,
   "metadata": {
    "collapsed": false
   },
   "outputs": [],
   "source": []
  },
  {
   "cell_type": "code",
   "execution_count": null,
   "metadata": {
    "collapsed": true
   },
   "outputs": [],
   "source": []
  },
  {
   "cell_type": "code",
   "execution_count": null,
   "metadata": {
    "collapsed": true
   },
   "outputs": [],
   "source": []
  },
  {
   "cell_type": "code",
   "execution_count": null,
   "metadata": {
    "collapsed": true
   },
   "outputs": [],
   "source": []
  },
  {
   "cell_type": "code",
   "execution_count": null,
   "metadata": {
    "collapsed": true
   },
   "outputs": [],
   "source": []
  },
  {
   "cell_type": "markdown",
   "metadata": {},
   "source": [
    "***\n",
    "***"
   ]
  },
  {
   "cell_type": "markdown",
   "metadata": {},
   "source": [
    "***\n",
    "We can see which is which using the function called `type()`.\n",
    "\n",
    "For instance the number 1 is an `integer` as it's a whole-number."
   ]
  },
  {
   "cell_type": "code",
   "execution_count": null,
   "metadata": {
    "collapsed": true
   },
   "outputs": [],
   "source": [
    "type(1)"
   ]
  },
  {
   "cell_type": "markdown",
   "metadata": {},
   "source": [
    "However, when the number 1 is represented as 1. (or as a float) it takes up more memory because it can allow for decimals. "
   ]
  },
  {
   "cell_type": "code",
   "execution_count": null,
   "metadata": {
    "collapsed": true
   },
   "outputs": [],
   "source": [
    "type(1.)"
   ]
  },
  {
   "cell_type": "markdown",
   "metadata": {},
   "source": [
    "***\n",
    "***\n",
    "\n",
    "### Variables"
   ]
  },
  {
   "cell_type": "markdown",
   "metadata": {},
   "source": [
    "A variable holds information (e.g. 1.343, 'hi', [1, 1, 2, 3, 5, 8]). In `Python` it's pretty simple to create a variable:"
   ]
  },
  {
   "cell_type": "code",
   "execution_count": null,
   "metadata": {
    "collapsed": true
   },
   "outputs": [],
   "source": [
    "x = 1.343 # a number"
   ]
  },
  {
   "cell_type": "code",
   "execution_count": null,
   "metadata": {
    "collapsed": true
   },
   "outputs": [],
   "source": [
    "greeting = 'hi' # a string"
   ]
  },
  {
   "cell_type": "code",
   "execution_count": null,
   "metadata": {
    "collapsed": true
   },
   "outputs": [],
   "source": [
    "arr = [1, 1, 2, 3, 5, 8] # a list (more on this next time)"
   ]
  },
  {
   "cell_type": "markdown",
   "metadata": {},
   "source": [
    "Variables can change (they are, as the name suggests, variable). Try out the code below to see for yourself. `x` will change each time you assign it a new value. That said, a variable will forget old information when you assign it a new value."
   ]
  },
  {
   "cell_type": "code",
   "execution_count": null,
   "metadata": {
    "collapsed": true
   },
   "outputs": [],
   "source": [
    "x = 1.343\n",
    "x"
   ]
  },
  {
   "cell_type": "code",
   "execution_count": null,
   "metadata": {
    "collapsed": true
   },
   "outputs": [],
   "source": [
    "x = 2\n",
    "x"
   ]
  },
  {
   "cell_type": "code",
   "execution_count": null,
   "metadata": {
    "collapsed": true
   },
   "outputs": [],
   "source": [
    "x = 10 + 4\n",
    "x"
   ]
  },
  {
   "cell_type": "code",
   "execution_count": null,
   "metadata": {
    "collapsed": true
   },
   "outputs": [],
   "source": [
    "x = -3\n",
    "x"
   ]
  },
  {
   "cell_type": "markdown",
   "metadata": {},
   "source": [
    "Unlike C/C++ and Java, variables can change types. (This is also part of the reason why Python is slower than C/C++ and Java.) In other words, `Python` keeps track of the type internally."
   ]
  },
  {
   "cell_type": "code",
   "execution_count": null,
   "metadata": {
    "collapsed": true
   },
   "outputs": [],
   "source": [
    "x = 2\n",
    "x"
   ]
  },
  {
   "cell_type": "code",
   "execution_count": null,
   "metadata": {
    "collapsed": true
   },
   "outputs": [],
   "source": [
    "x = [3, 4, 5]\n",
    "x"
   ]
  },
  {
   "cell_type": "code",
   "execution_count": null,
   "metadata": {
    "collapsed": true
   },
   "outputs": [],
   "source": [
    "x = 'hi'\n",
    "x"
   ]
  },
  {
   "cell_type": "markdown",
   "metadata": {},
   "source": [
    "***\n",
    "***\n",
    "\n",
    "### Shorthand to combine assignment and addition statements"
   ]
  },
  {
   "cell_type": "markdown",
   "metadata": {},
   "source": [
    "At some point you may need to work some mathematical magic on your variables, adding to them, multiplying them, and so on. In addition the basic assigment operator (`=`), python includes shorthand to do exactly these kinds of operations on your variables. These are called `assignment operators`, and there are a few of them. [Check out the documentation page](http://python-reference.readthedocs.io/en/latest/docs/operators/#assignment-operators) to get the full list, but you can see some examples below."
   ]
  },
  {
   "cell_type": "code",
   "execution_count": null,
   "metadata": {
    "collapsed": true
   },
   "outputs": [],
   "source": [
    "x = 4\n",
    "x"
   ]
  },
  {
   "cell_type": "code",
   "execution_count": null,
   "metadata": {
    "collapsed": true
   },
   "outputs": [],
   "source": [
    "x += 2 # i.e., x = x + 2\n",
    "x"
   ]
  },
  {
   "cell_type": "code",
   "execution_count": null,
   "metadata": {
    "collapsed": true
   },
   "outputs": [],
   "source": [
    "y = 'hi'\n",
    "y"
   ]
  },
  {
   "cell_type": "code",
   "execution_count": null,
   "metadata": {
    "collapsed": true
   },
   "outputs": [],
   "source": [
    "y *= 4 # i.e., y = y * 4\n",
    "y"
   ]
  },
  {
   "cell_type": "markdown",
   "metadata": {},
   "source": [
    "`Python` (and other programming languages) interpret expressions like this from right to left: the value of the stuff on the right side of the `=` sign is given the variable name on the left. "
   ]
  },
  {
   "cell_type": "code",
   "execution_count": null,
   "metadata": {
    "collapsed": true
   },
   "outputs": [],
   "source": [
    "width = 10\n",
    "length = 30\n",
    "area = length * width\n",
    "area"
   ]
  },
  {
   "cell_type": "markdown",
   "metadata": {},
   "source": [
    "So `width` and `length` are given the values `10` and `30`, respectively, while `area` gets the value of `length * width`, or `30 * 10`. "
   ]
  },
  {
   "cell_type": "markdown",
   "metadata": {},
   "source": [
    "***\n",
    "Note that typing the name of the variable by itself, as in the last line, causes Python to print the value.\n",
    "\n",
    "If you try to access a variable that you haven't yet defined, you get an error:"
   ]
  },
  {
   "cell_type": "code",
   "execution_count": null,
   "metadata": {
    "collapsed": true
   },
   "outputs": [],
   "source": [
    "volume"
   ]
  },
  {
   "cell_type": "markdown",
   "metadata": {},
   "source": [
    "and you need to define it:"
   ]
  },
  {
   "cell_type": "code",
   "execution_count": null,
   "metadata": {
    "collapsed": true
   },
   "outputs": [],
   "source": [
    "depth = 10\n",
    "volume = area*depth"
   ]
  },
  {
   "cell_type": "code",
   "execution_count": null,
   "metadata": {
    "collapsed": true
   },
   "outputs": [],
   "source": [
    "volume"
   ]
  },
  {
   "cell_type": "markdown",
   "metadata": {},
   "source": [
    "\n",
    "You can name a variable *almost* anything you want.  It needs to start with an alphabetical character or an underscore, \"\\_\", and can contain alpha*numeric* characters and underscores.  Certain **keywords**, however, are reserved for the language:\n",
    "\n",
    "    and, as, assert, break, class, continue, def, del, elif, else, except, \n",
    "    exec, finally, for, from, global, if, import, in, is, lambda, not, or,\n",
    "    pass, print, raise, return, try, while, with, yield\n",
    "\n",
    "Trying to define a variable using one of these will result in a syntax error:"
   ]
  },
  {
   "cell_type": "code",
   "execution_count": null,
   "metadata": {
    "collapsed": true
   },
   "outputs": [],
   "source": [
    "return = 0"
   ]
  },
  {
   "cell_type": "markdown",
   "metadata": {},
   "source": [
    "***\n",
    "***\n",
    "\n",
    "# Checkpoint 2 of 12\n",
    "## Now you try! \n",
    "\n",
    "### The equation for a rectangle is length x width x height. \n",
    "\n",
    "### Create three variables for length, width, and height and assign some random numbers to each. Then calculate the volume by multipying these three variables. "
   ]
  },
  {
   "cell_type": "code",
   "execution_count": null,
   "metadata": {
    "collapsed": true
   },
   "outputs": [],
   "source": [
    "#Define length here"
   ]
  },
  {
   "cell_type": "code",
   "execution_count": null,
   "metadata": {
    "collapsed": true
   },
   "outputs": [],
   "source": [
    "#Define width here"
   ]
  },
  {
   "cell_type": "code",
   "execution_count": null,
   "metadata": {
    "collapsed": true
   },
   "outputs": [],
   "source": [
    "#Define height here"
   ]
  },
  {
   "cell_type": "code",
   "execution_count": null,
   "metadata": {
    "collapsed": true
   },
   "outputs": [],
   "source": [
    "#Define volume using the three previous variables"
   ]
  },
  {
   "cell_type": "markdown",
   "metadata": {},
   "source": [
    "***\n",
    "***\n",
    "\n",
    "### Boolean and Comparison Operators"
   ]
  },
  {
   "cell_type": "markdown",
   "metadata": {},
   "source": [
    "Python also gives you the tools to make logical comparisons between two things. Say you have two variables."
   ]
  },
  {
   "cell_type": "code",
   "execution_count": null,
   "metadata": {
    "collapsed": true
   },
   "outputs": [],
   "source": [
    "x = 1\n",
    "y = 'hello'"
   ]
  },
  {
   "cell_type": "markdown",
   "metadata": {},
   "source": [
    "We can check for equality with the `==` operator. (Notice the difference: to assign a value to a variable, you use the single `=`; to compare two variables to see if they are equal, you use the double `==`)"
   ]
  },
  {
   "cell_type": "code",
   "execution_count": null,
   "metadata": {
    "collapsed": true
   },
   "outputs": [],
   "source": [
    "x == 1"
   ]
  },
  {
   "cell_type": "code",
   "execution_count": null,
   "metadata": {
    "collapsed": true
   },
   "outputs": [],
   "source": [
    "y == 'hello'"
   ]
  },
  {
   "cell_type": "markdown",
   "metadata": {},
   "source": [
    "However, what if we switch `hello` with `Hello` or `hi`? "
   ]
  },
  {
   "cell_type": "code",
   "execution_count": null,
   "metadata": {
    "collapsed": true
   },
   "outputs": [],
   "source": [
    "y == 'Hello'"
   ]
  },
  {
   "cell_type": "code",
   "execution_count": null,
   "metadata": {
    "collapsed": true
   },
   "outputs": [],
   "source": [
    "y == 'hi'"
   ]
  },
  {
   "cell_type": "markdown",
   "metadata": {},
   "source": [
    "To our human mind, they're equivalent. But to `Python`, they're completely different. Every character needs to be exactly the same, and this includes case. "
   ]
  },
  {
   "cell_type": "markdown",
   "metadata": {},
   "source": [
    "Let's also test out the `or` along with the `and` operators. They work just like you would expect them to, if you have ever used them in Excel or another statistical software. It returns `True` or `False`. \n",
    "\n",
    "For instance, if one statement is `True` but the other is `False` what would the `or` operator return?"
   ]
  },
  {
   "cell_type": "code",
   "execution_count": null,
   "metadata": {
    "collapsed": true
   },
   "outputs": [],
   "source": [
    "x == 1 or y == 'hi'"
   ]
  },
  {
   "cell_type": "markdown",
   "metadata": {},
   "source": [
    "This works just as well with negative statements. Let's say we check whether a variable does not equal some value. We write that as `!=`"
   ]
  },
  {
   "cell_type": "code",
   "execution_count": null,
   "metadata": {
    "collapsed": true
   },
   "outputs": [],
   "source": [
    "x != 0 and y != 'hi'"
   ]
  },
  {
   "cell_type": "code",
   "execution_count": null,
   "metadata": {
    "collapsed": true
   },
   "outputs": [],
   "source": [
    "y = 0"
   ]
  },
  {
   "cell_type": "markdown",
   "metadata": {},
   "source": [
    "Be warned, when you use the `or` statement or the `and` statement to directly compare two variables, it has a slightly different meaning. Every object in python has a boolean (i.e. True/False) value. Most are `True`, though a few are `False`, like `x = False`, `x = 0`, `x = None`. This affects your output."
   ]
  },
  {
   "cell_type": "code",
   "execution_count": null,
   "metadata": {
    "collapsed": true
   },
   "outputs": [],
   "source": [
    "x or y # or statements"
   ]
  },
  {
   "cell_type": "code",
   "execution_count": null,
   "metadata": {
    "collapsed": true,
    "scrolled": true
   },
   "outputs": [],
   "source": [
    "x and y # and statements"
   ]
  },
  {
   "cell_type": "markdown",
   "metadata": {},
   "source": [
    "Similarly, python can handle simple mathematical inequalities."
   ]
  },
  {
   "cell_type": "code",
   "execution_count": null,
   "metadata": {
    "collapsed": true
   },
   "outputs": [],
   "source": [
    "2 > 2 # False"
   ]
  },
  {
   "cell_type": "code",
   "execution_count": null,
   "metadata": {
    "collapsed": true
   },
   "outputs": [],
   "source": [
    "2 >= 2 # True"
   ]
  },
  {
   "cell_type": "code",
   "execution_count": null,
   "metadata": {
    "collapsed": true
   },
   "outputs": [],
   "source": [
    "z = 3.14\n",
    "2.1 < z < 5.4 # chained inequalities"
   ]
  },
  {
   "cell_type": "code",
   "execution_count": null,
   "metadata": {
    "collapsed": true
   },
   "outputs": [],
   "source": [
    "not y"
   ]
  },
  {
   "cell_type": "code",
   "execution_count": null,
   "metadata": {
    "collapsed": true
   },
   "outputs": [],
   "source": [
    "1 is 1.0"
   ]
  },
  {
   "cell_type": "markdown",
   "metadata": {},
   "source": [
    "Notice that in python 1 does not equal 1.0--it's important to keep track of whether your numbers are stored as integers or floats, otherwise you will find yourself with funny results."
   ]
  },
  {
   "cell_type": "markdown",
   "metadata": {},
   "source": [
    "***\n",
    "***\n",
    "\n",
    "# Checkpoint 3 of 12\n",
    "## Now you try! \n",
    "\n",
    "### Come up with three inequality tests. Define two variables `test1` and `test2`. Assign anything you'd like to them (e.g., strings, numbers, etc.)\n",
    "\n",
    "### Try out three different inequality tests that yield `True` or `False` as its outcome. \n"
   ]
  },
  {
   "cell_type": "code",
   "execution_count": null,
   "metadata": {
    "collapsed": true
   },
   "outputs": [],
   "source": []
  },
  {
   "cell_type": "code",
   "execution_count": null,
   "metadata": {
    "collapsed": true
   },
   "outputs": [],
   "source": []
  },
  {
   "cell_type": "code",
   "execution_count": null,
   "metadata": {
    "collapsed": true
   },
   "outputs": [],
   "source": []
  },
  {
   "cell_type": "code",
   "execution_count": null,
   "metadata": {
    "collapsed": true
   },
   "outputs": [],
   "source": []
  },
  {
   "cell_type": "code",
   "execution_count": null,
   "metadata": {
    "collapsed": true
   },
   "outputs": [],
   "source": []
  },
  {
   "cell_type": "markdown",
   "metadata": {},
   "source": [
    "***\n",
    "***"
   ]
  },
  {
   "cell_type": "markdown",
   "metadata": {},
   "source": [
    "***\n",
    "***\n",
    "\n",
    "### Control Flow\n",
    "The `if` statement is the most basic way to control the direction and flow of a program"
   ]
  },
  {
   "cell_type": "markdown",
   "metadata": {},
   "source": [
    "Note that each of the parts, `if`, `elif`, and `else` is in a separate line that ends with a colon, and that the code to be executed in each case is indented in a block below the `if`, `elif`, and `else` lines.  Also note that you can have just `if` and `else`, or just `if` and `elif` parts.  (In the latter case, if neither the `if` nor `elif` conditions are met, the `if`-`elif` block has no effect.)\n",
    "\n",
    "Multiple conditions can be checked using a structure like the one shown below, with as many `elif` blocks as needed  \n",
    "\n",
    "```python\n",
    "if condition1:\n",
    "   block1\n",
    "elif condition2:\n",
    "   block2\n",
    "elif condition3:\n",
    "   block3\n",
    "else\n",
    "   elseblock\n",
    "```\n"
   ]
  },
  {
   "cell_type": "markdown",
   "metadata": {},
   "source": [
    "Take a look at some working examples. You can, of course, create a set of `if` statements."
   ]
  },
  {
   "cell_type": "code",
   "execution_count": null,
   "metadata": {
    "collapsed": true
   },
   "outputs": [],
   "source": [
    "if x:\n",
    "    print('hello1')\n",
    "if not x:\n",
    "    print('hello2')\n",
    "if not x and y:\n",
    "    print('hello3')"
   ]
  },
  {
   "cell_type": "markdown",
   "metadata": {},
   "source": [
    "But `if` statements are often accompanied by `else` to specify a second path for the\n",
    "code in case the `if` statement is false. This makes for more readable code, and saved you effort, too."
   ]
  },
  {
   "cell_type": "code",
   "execution_count": null,
   "metadata": {
    "collapsed": true
   },
   "outputs": [],
   "source": [
    "if x:\n",
    "    print('hello')\n",
    "else:\n",
    "    print('hi!')"
   ]
  },
  {
   "cell_type": "markdown",
   "metadata": {},
   "source": [
    "`if` statements can also have `elif` (\"else if\") parts, in addition to if/else parts. This allows you to capture a more complex logic. For example:"
   ]
  },
  {
   "cell_type": "code",
   "execution_count": null,
   "metadata": {
    "collapsed": true
   },
   "outputs": [],
   "source": [
    "day = \"Tuesday\"\n",
    "if day == \"Sunday\":\n",
    "    print(\"Sleep in\")\n",
    "elif day == \"Saturday\":\n",
    "    print(\"Do chores\")\n",
    "else:\n",
    "    print(\"Go to work\")"
   ]
  },
  {
   "cell_type": "markdown",
   "metadata": {},
   "source": [
    "A closing note on `if` statements. Only the numerical value 0 is treated as `False`, in logical terms, and all other numerical values are treated as `True` (1, 4.33, -12, ...)."
   ]
  },
  {
   "cell_type": "code",
   "execution_count": null,
   "metadata": {
    "collapsed": true
   },
   "outputs": [],
   "source": [
    "x = -5\n",
    "y = 5\n",
    "z = 0\n",
    "if x and y and z:\n",
    "    print('hello1') # will not print\n",
    "if (x and y) or z:\n",
    "    print('hello2') # will print"
   ]
  },
  {
   "cell_type": "markdown",
   "metadata": {},
   "source": [
    "***\n",
    "***\n",
    "\n",
    "# Checkpoint 4 of 12\n",
    "\n",
    "## Now you try! \n",
    "\n",
    "- Define three variables, which we'll call x, y, and z, and assign them the following strings: \"Hello\" to variable x, \"Hola\" to variable y, and \"Bonjour\" to variable z. \n",
    "- Now, create a series of if-elif statements that returns the type of language of each greeting. \n",
    "- For example, for the variable x, you'll write:\n",
    "\n",
    "\n",
    "```if x == \"Hello\":\n",
    "    print(\"English\")\n",
    "```"
   ]
  },
  {
   "cell_type": "code",
   "execution_count": null,
   "metadata": {
    "collapsed": true
   },
   "outputs": [],
   "source": []
  },
  {
   "cell_type": "code",
   "execution_count": null,
   "metadata": {
    "collapsed": true
   },
   "outputs": [],
   "source": []
  },
  {
   "cell_type": "code",
   "execution_count": null,
   "metadata": {
    "collapsed": true
   },
   "outputs": [],
   "source": []
  },
  {
   "cell_type": "code",
   "execution_count": null,
   "metadata": {
    "collapsed": true
   },
   "outputs": [],
   "source": []
  },
  {
   "cell_type": "code",
   "execution_count": null,
   "metadata": {
    "collapsed": true
   },
   "outputs": [],
   "source": []
  },
  {
   "cell_type": "markdown",
   "metadata": {},
   "source": [
    "***\n",
    "***\n",
    "\n",
    "### Strings\n",
    "\n",
    "One of the many things that `python` is *really* good for is manipulating strings (text, for the uninitiated). Strings are enclosed in either single quotes (`'...'`) or double quotes (`\"...\"`). The only difference between the two is that you need to escape literal single quotes with `\\` if you're using single quotes, and escape literal double quotes with `\\` if you're using double quotes. Examples,"
   ]
  },
  {
   "cell_type": "code",
   "execution_count": null,
   "metadata": {
    "collapsed": true
   },
   "outputs": [],
   "source": [
    "'Hello, world!'"
   ]
  },
  {
   "cell_type": "code",
   "execution_count": null,
   "metadata": {
    "collapsed": true
   },
   "outputs": [],
   "source": [
    "'hi' * 10"
   ]
  },
  {
   "cell_type": "code",
   "execution_count": null,
   "metadata": {
    "collapsed": true
   },
   "outputs": [],
   "source": [
    "'Hello, ' + 'world!'"
   ]
  },
  {
   "cell_type": "code",
   "execution_count": null,
   "metadata": {
    "collapsed": true
   },
   "outputs": [],
   "source": [
    "'This is a string in single quotes, and it works fine'"
   ]
  },
  {
   "cell_type": "code",
   "execution_count": null,
   "metadata": {
    "collapsed": true
   },
   "outputs": [],
   "source": [
    "'This is a string in single quotes, but it's broken!'"
   ]
  },
  {
   "cell_type": "code",
   "execution_count": null,
   "metadata": {
    "collapsed": true
   },
   "outputs": [],
   "source": [
    "'This is a string with single quotes, and now it\\'s fixed!'"
   ]
  },
  {
   "cell_type": "code",
   "execution_count": null,
   "metadata": {
    "collapsed": true
   },
   "outputs": [],
   "source": [
    "\"So, there's incentive to use double quotes\""
   ]
  },
  {
   "cell_type": "markdown",
   "metadata": {},
   "source": [
    "That should make it pretty clear. Note that when escaping a single quote in a string enclosed in single quotes, the interpreter internally changes the enclosing quotes to double quotes. The two are absolutely identical, so you should use whichever set of quotes you prefer to enclose your strings, as long as you're consistent.\n",
    "\n",
    "Use the `print` statement to make output more readable by omitting the enclosing quotes and printing special characters escaped with `\\`."
   ]
  },
  {
   "cell_type": "code",
   "execution_count": null,
   "metadata": {
    "collapsed": true
   },
   "outputs": [],
   "source": [
    "'enclosing double quotes (\"\") and single quotes(\\'\\') are the same thing in python'"
   ]
  },
  {
   "cell_type": "code",
   "execution_count": null,
   "metadata": {
    "collapsed": true,
    "scrolled": true
   },
   "outputs": [],
   "source": [
    "print('enclosing double quotes (\"\") and single quotes(\\'\\') are the same thing in python')"
   ]
  },
  {
   "cell_type": "markdown",
   "metadata": {},
   "source": [
    "Strings can also have more than one line. You can either use an explicit line-break character \n",
    "(`\\n`):"
   ]
  },
  {
   "cell_type": "code",
   "execution_count": null,
   "metadata": {
    "collapsed": true
   },
   "outputs": [],
   "source": [
    "print('This string has\\ntwo lines!')"
   ]
  },
  {
   "cell_type": "markdown",
   "metadata": {},
   "source": [
    "... or use triple quotes `'''...'''` or `\"\"\"...\"\"\"`"
   ]
  },
  {
   "cell_type": "code",
   "execution_count": null,
   "metadata": {
    "collapsed": true
   },
   "outputs": [],
   "source": [
    "print('''\n",
    "This string has\n",
    "two lines!\n",
    "''')"
   ]
  },
  {
   "cell_type": "markdown",
   "metadata": {},
   "source": [
    "If you look carefully enough, you'll notice that the last string actually has four lines. This is because the triple quotes literally encode all white spaces, including the new lines after the first `'''` and the last \"`!`\". To avoid this, you can escape the new lines with `\\`"
   ]
  },
  {
   "cell_type": "code",
   "execution_count": null,
   "metadata": {
    "collapsed": true,
    "scrolled": true
   },
   "outputs": [],
   "source": [
    "print('''\\\n",
    "This string (really) has\n",
    "two lines!\\\n",
    "''')"
   ]
  },
  {
   "cell_type": "markdown",
   "metadata": {},
   "source": [
    "Unlike some other stingy languages, the plus operator (`+`) does exactly what you'd expect it to do with strings!"
   ]
  },
  {
   "cell_type": "code",
   "execution_count": null,
   "metadata": {
    "collapsed": true
   },
   "outputs": [],
   "source": [
    "first_name = 'Charles'\n",
    "last_name = 'Gomez'\n",
    "full_name = first_name + ' ' + last_name\n",
    "print('Hello,', full_name)"
   ]
  },
  {
   "cell_type": "markdown",
   "metadata": {},
   "source": [
    "Even the multiplying operator (`*`) works!"
   ]
  },
  {
   "cell_type": "code",
   "execution_count": null,
   "metadata": {
    "collapsed": true
   },
   "outputs": [],
   "source": [
    "print('Sing, ' + 'la ' * 3)"
   ]
  },
  {
   "cell_type": "markdown",
   "metadata": {},
   "source": [
    "Strings, like many things in `python`, can be indexed (subscripted). The first element (character) has index 0."
   ]
  },
  {
   "cell_type": "code",
   "execution_count": null,
   "metadata": {
    "collapsed": true
   },
   "outputs": [],
   "source": [
    "job = 'jedi'"
   ]
  },
  {
   "cell_type": "code",
   "execution_count": null,
   "metadata": {
    "collapsed": true
   },
   "outputs": [],
   "source": [
    "job[0]  "
   ]
  },
  {
   "cell_type": "markdown",
   "metadata": {},
   "source": [
    "`Python` will yell at you if you go out of range."
   ]
  },
  {
   "cell_type": "code",
   "execution_count": null,
   "metadata": {
    "collapsed": true
   },
   "outputs": [],
   "source": [
    "job[10]"
   ]
  },
  {
   "cell_type": "markdown",
   "metadata": {},
   "source": [
    "But you *can* go backwards with a negative index, -1 being the right-most character."
   ]
  },
  {
   "cell_type": "code",
   "execution_count": null,
   "metadata": {
    "collapsed": true
   },
   "outputs": [],
   "source": [
    "job[-1]  # right-most character"
   ]
  },
  {
   "cell_type": "markdown",
   "metadata": {},
   "source": [
    "**Slicing** is another useful way to get subsets of your string. You can specify the start- and end-point of the slice that you want to cut. Python will return a string that begins with the character at your start-point position, and ends at the character *before* the end-point position you specified."
   ]
  },
  {
   "cell_type": "code",
   "execution_count": null,
   "metadata": {
    "collapsed": true
   },
   "outputs": [],
   "source": [
    "job[0:2]  # characters from position 0 (included) to 2 (excluded)"
   ]
  },
  {
   "cell_type": "code",
   "execution_count": null,
   "metadata": {
    "collapsed": true
   },
   "outputs": [],
   "source": [
    "job[2:4]  # characters from position 2 (included) to 3 (excluded)"
   ]
  },
  {
   "cell_type": "markdown",
   "metadata": {},
   "source": [
    "Omitting the first slice index will default to zero (the first element)"
   ]
  },
  {
   "cell_type": "code",
   "execution_count": null,
   "metadata": {
    "collapsed": true
   },
   "outputs": [],
   "source": [
    "job[:3]  # slice from the first element (included) to position 3"
   ]
  },
  {
   "cell_type": "markdown",
   "metadata": {},
   "source": [
    "Omitting the second index will default to the size of the string, which includes the last element."
   ]
  },
  {
   "cell_type": "code",
   "execution_count": null,
   "metadata": {
    "collapsed": true
   },
   "outputs": [],
   "source": [
    "job[1:]  # slice from position 1 (included) to the end"
   ]
  },
  {
   "cell_type": "markdown",
   "metadata": {},
   "source": [
    "Use slices creatively, to make your life easier!"
   ]
  },
  {
   "cell_type": "code",
   "execution_count": null,
   "metadata": {
    "collapsed": true
   },
   "outputs": [],
   "source": [
    "job[-2:]  # slice the last two characters"
   ]
  },
  {
   "cell_type": "markdown",
   "metadata": {},
   "source": [
    "Unlike indexing, slicing is generous to ambitious ranges"
   ]
  },
  {
   "cell_type": "code",
   "execution_count": null,
   "metadata": {
    "collapsed": true
   },
   "outputs": [],
   "source": [
    "job[0:100]"
   ]
  },
  {
   "cell_type": "markdown",
   "metadata": {},
   "source": [
    "Strings in `python` are `immutable`, meaning they can't be changed. In other words, you can't assign a value to a string index."
   ]
  },
  {
   "cell_type": "code",
   "execution_count": null,
   "metadata": {
    "collapsed": true
   },
   "outputs": [],
   "source": [
    "job[0] = 'T'"
   ]
  },
  {
   "cell_type": "markdown",
   "metadata": {},
   "source": [
    "Instead, you have to build a new string from the existing string."
   ]
  },
  {
   "cell_type": "code",
   "execution_count": null,
   "metadata": {
    "collapsed": true
   },
   "outputs": [],
   "source": [
    "job = 'T' + job[1:]"
   ]
  },
  {
   "cell_type": "code",
   "execution_count": null,
   "metadata": {
    "collapsed": true
   },
   "outputs": [],
   "source": [
    "print(job)"
   ]
  },
  {
   "cell_type": "markdown",
   "metadata": {},
   "source": [
    "The built-in `len()` function will return the length of a string."
   ]
  },
  {
   "cell_type": "code",
   "execution_count": null,
   "metadata": {
    "collapsed": true,
    "scrolled": true
   },
   "outputs": [],
   "source": [
    "len(job)"
   ]
  },
  {
   "cell_type": "markdown",
   "metadata": {},
   "source": [
    "***\n",
    "***\n",
    "\n",
    "# Checkpoint 5 of 12\n",
    "\n",
    "## Now you try!\n",
    "\n",
    "### Create a variable called ```first_name``` and ```surname```. Assign your first name and last name to the approrpriate variables. \n",
    "\n",
    "### Now create a new variable called ```full_name``` and assign ```first_name``` and ```surname``` to it, by using the ```+``` operator and a space between the two, just like in the example above. \n",
    "\n",
    "### Calculate the length of the string ```full_name```. "
   ]
  },
  {
   "cell_type": "code",
   "execution_count": null,
   "metadata": {
    "collapsed": true
   },
   "outputs": [],
   "source": []
  },
  {
   "cell_type": "code",
   "execution_count": null,
   "metadata": {
    "collapsed": true
   },
   "outputs": [],
   "source": []
  },
  {
   "cell_type": "code",
   "execution_count": null,
   "metadata": {
    "collapsed": true
   },
   "outputs": [],
   "source": []
  },
  {
   "cell_type": "code",
   "execution_count": null,
   "metadata": {
    "collapsed": true
   },
   "outputs": [],
   "source": []
  },
  {
   "cell_type": "code",
   "execution_count": null,
   "metadata": {
    "collapsed": true
   },
   "outputs": [],
   "source": []
  },
  {
   "cell_type": "markdown",
   "metadata": {},
   "source": [
    "***\n",
    "***\n",
    "\n",
    "## Basic Data Structures: Lists"
   ]
  },
  {
   "cell_type": "markdown",
   "metadata": {},
   "source": [
    "There are a number of different ways that `python` will let you store your information. We call these \"data structures\". Let's cover some of the basic data structures in `python`. \n",
    "\n",
    "First, let's explore the most basic `python` data structure, called a `list`. Lists store a bunch of items together in a way that makes them easy to access, whether those items are `strings`, `integers`, or even named variables (which themselves can even be lists!). Here's an example:"
   ]
  },
  {
   "cell_type": "code",
   "execution_count": null,
   "metadata": {
    "collapsed": true
   },
   "outputs": [],
   "source": [
    "days_of_the_week = [\"Sunday\",\"Monday\",\"Tuesday\",\"Wednesday\",\"Thursday\",\"Friday\",\"Saturday\"]"
   ]
  },
  {
   "cell_type": "markdown",
   "metadata": {},
   "source": [
    "You can access a member of the list using the **index** of that item--that is, the position of that element in the list. Be careful, though, because `python` starts counting the index from 0.  Thus, in this example, the element in position 0 is \"Sunday\", the element in position 1 is \"Monday\", and so on.  What day of the week do we get with the index 2?"
   ]
  },
  {
   "cell_type": "code",
   "execution_count": null,
   "metadata": {
    "collapsed": true
   },
   "outputs": [],
   "source": [
    "days_of_the_week[2]"
   ]
  },
  {
   "cell_type": "markdown",
   "metadata": {},
   "source": [
    "If you need to access the *n*th element from the end of the list, you can use a negative index.  For example, the `-1` element of a list is the last element, the `-2` element is second-to-last, etc.:"
   ]
  },
  {
   "cell_type": "code",
   "execution_count": null,
   "metadata": {
    "collapsed": true
   },
   "outputs": [],
   "source": [
    "days_of_the_week[-1]"
   ]
  },
  {
   "cell_type": "code",
   "execution_count": null,
   "metadata": {
    "collapsed": true
   },
   "outputs": [],
   "source": [
    "days_of_the_week[-3]"
   ]
  },
  {
   "cell_type": "markdown",
   "metadata": {},
   "source": [
    "Last time we saw that we could subset a string to pick out specific \"slices\" of that string. We can use many of the same subsetting tools to pick out specific pieces of information from a list. If we want the list containing the first two elements of a list, for instance:"
   ]
  },
  {
   "cell_type": "code",
   "execution_count": null,
   "metadata": {
    "collapsed": true
   },
   "outputs": [],
   "source": [
    "days_of_the_week[0:2]"
   ]
  },
  {
   "cell_type": "markdown",
   "metadata": {},
   "source": [
    "or simply"
   ]
  },
  {
   "cell_type": "code",
   "execution_count": null,
   "metadata": {
    "collapsed": true
   },
   "outputs": [],
   "source": [
    "days_of_the_week[:2]"
   ]
  },
  {
   "cell_type": "markdown",
   "metadata": {},
   "source": [
    "Notice that the initial value is assumed to be `0`.  As with the earlier loops, the output does not include the second argument to the list.\n",
    "\n",
    "If we want the last items of the list, we can do this with negative slicing:"
   ]
  },
  {
   "cell_type": "code",
   "execution_count": null,
   "metadata": {
    "collapsed": true
   },
   "outputs": [],
   "source": [
    "days_of_the_week[-2:]"
   ]
  },
  {
   "cell_type": "markdown",
   "metadata": {},
   "source": [
    "Here, the assumed last value is `0`, so the slicing is picking out the list elements with indices `-2` and `-1` -- the second-to-last and last elements."
   ]
  },
  {
   "cell_type": "markdown",
   "metadata": {},
   "source": [
    "\n",
    "\n",
    "You can also create entirely new variables or lists using a subset of another list. Let's make a list of the weekdays. All we have to do is exclude the first element (index 0) and the last element (index 6) from our list:"
   ]
  },
  {
   "cell_type": "code",
   "execution_count": null,
   "metadata": {
    "collapsed": true
   },
   "outputs": [],
   "source": [
    "weekdays = days_of_the_week[1:6]"
   ]
  },
  {
   "cell_type": "code",
   "execution_count": null,
   "metadata": {
    "collapsed": true
   },
   "outputs": [],
   "source": [
    "print(weekdays)"
   ]
  },
  {
   "cell_type": "markdown",
   "metadata": {},
   "source": [
    "If we really want to get fancy, we can pass a third element into the slice, which specifies a step length."
   ]
  },
  {
   "cell_type": "code",
   "execution_count": null,
   "metadata": {
    "collapsed": true
   },
   "outputs": [],
   "source": [
    "MWFdays = days_of_the_week[1:6:2]"
   ]
  },
  {
   "cell_type": "code",
   "execution_count": null,
   "metadata": {
    "collapsed": true
   },
   "outputs": [],
   "source": [
    "print(MWFdays)"
   ]
  },
  {
   "cell_type": "markdown",
   "metadata": {},
   "source": [
    "\n",
    "You can find out how long a list is using the **len()** command:"
   ]
  },
  {
   "cell_type": "code",
   "execution_count": null,
   "metadata": {
    "collapsed": true
   },
   "outputs": [],
   "source": [
    "len(MWFdays)"
   ]
  },
  {
   "cell_type": "markdown",
   "metadata": {},
   "source": [
    "***\n",
    "##### Sidenote\n",
    "This brings us back full circle to strings. `Python` strings are very much like `python` lists, since they are both sequences. This means that we can do the same kind of fancy subsetting to strings. For instance:"
   ]
  },
  {
   "cell_type": "code",
   "execution_count": null,
   "metadata": {
    "collapsed": true
   },
   "outputs": [],
   "source": [
    "day = \"Sunday\"\n",
    "abbreviation = day[:3]\n",
    "print(abbreviation)"
   ]
  },
  {
   "cell_type": "markdown",
   "metadata": {},
   "source": [
    "***\n",
    "Back to lists, now. You can add additional items to the list using the `.append()` function. Let's first create a new list to demonstrate this point. "
   ]
  },
  {
   "cell_type": "code",
   "execution_count": null,
   "metadata": {
    "collapsed": true
   },
   "outputs": [],
   "source": [
    "languages = [\"Fortran\",\"C\",\"C++\"]"
   ]
  },
  {
   "cell_type": "markdown",
   "metadata": {},
   "source": [
    "Now, using `.append()` let's add the string `Python` to the list. The `.append()` function may seem strange. For instance, why does it start with a '.' and why does it get \"attached\" after the name of the list? Why don't I just use the `=` operation and \"update\" the list? \n",
    "\n",
    "The reason is that `.append()` is an example of a particular type of function called a **method**, which comes out of **object-oriented programming** that's specific to `lists`. We'll see this come up in later examples. "
   ]
  },
  {
   "cell_type": "code",
   "execution_count": null,
   "metadata": {
    "collapsed": true
   },
   "outputs": [],
   "source": [
    "languages.append(\"Python\")"
   ]
  },
  {
   "cell_type": "markdown",
   "metadata": {},
   "source": [
    "Using `print()` we can print out what's in the `list`."
   ]
  },
  {
   "cell_type": "code",
   "execution_count": null,
   "metadata": {
    "collapsed": true
   },
   "outputs": [],
   "source": [
    "print(languages)"
   ]
  },
  {
   "cell_type": "markdown",
   "metadata": {},
   "source": [
    "Notice, that we can also add lists together too."
   ]
  },
  {
   "cell_type": "code",
   "execution_count": null,
   "metadata": {
    "collapsed": true
   },
   "outputs": [],
   "source": [
    "languages = [\"MATLAB\",\"R\"] + languages"
   ]
  },
  {
   "cell_type": "code",
   "execution_count": null,
   "metadata": {
    "collapsed": true
   },
   "outputs": [],
   "source": [
    "print(languages)"
   ]
  },
  {
   "cell_type": "markdown",
   "metadata": {},
   "source": [
    "Or, just add one element (similar to `append`)."
   ]
  },
  {
   "cell_type": "code",
   "execution_count": null,
   "metadata": {
    "collapsed": true
   },
   "outputs": [],
   "source": [
    "languages = [\"Mathematica\"] + languages"
   ]
  },
  {
   "cell_type": "code",
   "execution_count": null,
   "metadata": {
    "collapsed": true
   },
   "outputs": [],
   "source": [
    "print(languages)"
   ]
  },
  {
   "cell_type": "markdown",
   "metadata": {},
   "source": [
    "***\n",
    "You can also join all of the elements in your list into a long string (like a sentence). This will come in handy much later. We can do this with the `.join()` method. "
   ]
  },
  {
   "cell_type": "code",
   "execution_count": null,
   "metadata": {
    "collapsed": true
   },
   "outputs": [],
   "source": [
    "' '.join(['some','data','in','a','list'])"
   ]
  },
  {
   "cell_type": "markdown",
   "metadata": {},
   "source": [
    "***\n",
    "Lists have a lot of various and helpful **methods** that you ought to use. For instance, let's create a new list and see what happens!"
   ]
  },
  {
   "cell_type": "code",
   "execution_count": null,
   "metadata": {
    "collapsed": true
   },
   "outputs": [],
   "source": [
    "fruits = ['mango', 'apple', 'banana', 'apple', 'kiwi', 'mango']"
   ]
  },
  {
   "cell_type": "code",
   "execution_count": null,
   "metadata": {
    "collapsed": true
   },
   "outputs": [],
   "source": [
    "print(fruits)"
   ]
  },
  {
   "cell_type": "markdown",
   "metadata": {},
   "source": [
    "Let's remove the item `apple` from the list. The `.remove()` method just removes the item in the list that first comes up. For example: "
   ]
  },
  {
   "cell_type": "code",
   "execution_count": null,
   "metadata": {
    "collapsed": true,
    "scrolled": true
   },
   "outputs": [],
   "source": [
    "fruits.remove('apple')  "
   ]
  },
  {
   "cell_type": "code",
   "execution_count": null,
   "metadata": {
    "collapsed": true
   },
   "outputs": [],
   "source": [
    "print(fruits)"
   ]
  },
  {
   "cell_type": "markdown",
   "metadata": {},
   "source": [
    "Notice that the first instance of `apple` is gone, but the second one is still there. The `.remove()` method will only remove the first instance it comes across, starting at index 0 on the far left. "
   ]
  },
  {
   "cell_type": "markdown",
   "metadata": {},
   "source": [
    "Now, let's say we want to find the index number of `mango`, which is still a part of the list we created. In other words, starting our search at index 0, what is the index of the first item in the list that matches the string `mango`? We can easily do this with the `.index()` method. \n",
    "\n",
    "Looking at the print out of the list above, what number would `mango` return?"
   ]
  },
  {
   "cell_type": "code",
   "execution_count": null,
   "metadata": {
    "collapsed": true
   },
   "outputs": [],
   "source": [
    "fruits.index('mango')"
   ]
  },
  {
   "cell_type": "markdown",
   "metadata": {},
   "source": [
    "Remember, even though `mango` is in the list twice, `python` will only return the index of its first instance in the list. \n",
    "\n",
    "Now, let's say we want to count the number of times `mango` is in the list. We can do this with the `.count()` method. We can pass in whatever item in the list, and it will return the number of times it's in the list. How many times does `mango` show up? "
   ]
  },
  {
   "cell_type": "code",
   "execution_count": null,
   "metadata": {
    "collapsed": true
   },
   "outputs": [],
   "source": [
    "fruits.count('mango') "
   ]
  },
  {
   "cell_type": "markdown",
   "metadata": {},
   "source": [
    "`Python` also gives us the tools to check if a particular thing appears in our list. While it is not a **method**, the **keyword** \"`in`\" does just that.\n",
    "\n",
    "For example, is the string \"`banana`\" in the list?"
   ]
  },
  {
   "cell_type": "code",
   "execution_count": null,
   "metadata": {
    "collapsed": true
   },
   "outputs": [],
   "source": [
    "'banana' in fruits"
   ]
  },
  {
   "cell_type": "markdown",
   "metadata": {},
   "source": [
    "Great, it is! But what if we capitalize the first letter in `Banana`?"
   ]
  },
  {
   "cell_type": "code",
   "execution_count": null,
   "metadata": {
    "collapsed": true
   },
   "outputs": [],
   "source": [
    "'Banana' in fruits"
   ]
  },
  {
   "cell_type": "markdown",
   "metadata": {},
   "source": [
    "We get `False`. Why? We covered this last time: while the strings read similar to us humans, the computer sees them as two different strings, with captial `B` and lower case `b` being two different characters. \n",
    "\n",
    "Finally, let's check something that we know isn't in the list (e.g., `tomato`) and see what happens. "
   ]
  },
  {
   "cell_type": "code",
   "execution_count": null,
   "metadata": {
    "collapsed": true
   },
   "outputs": [],
   "source": [
    "'tomato' in fruits"
   ]
  },
  {
   "cell_type": "markdown",
   "metadata": {},
   "source": [
    "***\n",
    "Let's now turn to `python` functions that will come in handy when we need to process data structures.\n",
    "\n",
    "The **range()** function is a convenient way to make sequential lists of numbers. Let's say I want to make a sequence from 0 to 9: "
   ]
  },
  {
   "cell_type": "code",
   "execution_count": null,
   "metadata": {
    "collapsed": true
   },
   "outputs": [],
   "source": [
    "list(range(10))"
   ]
  },
  {
   "cell_type": "markdown",
   "metadata": {},
   "source": [
    "Note that `range(n)` starts at 0 and gives the sequential list of integers less than `n`. But we can (almost) just as easily tell `python` where we want the sequence to start and stop using `range(start,stop)`. So:"
   ]
  },
  {
   "cell_type": "code",
   "execution_count": null,
   "metadata": {
    "collapsed": true
   },
   "outputs": [],
   "source": [
    "list(range(2,8))"
   ]
  },
  {
   "cell_type": "markdown",
   "metadata": {},
   "source": [
    "In this case, the range starts with the given first value, but does not include the second input value (the 8), as we have seen before.  "
   ]
  },
  {
   "cell_type": "markdown",
   "metadata": {},
   "source": [
    "Earlier we saw that you can pick out every second element of a list, every third element of a list, and so on. You can do something similar with the `range()` function to create a list that takes a specific number of \"steps\" between each element. We speicify the **step size** via a third argument provided to `range`. Say we want a list of even numbers that are positive and smaller than 20. We can do this:"
   ]
  },
  {
   "cell_type": "code",
   "execution_count": null,
   "metadata": {
    "collapsed": true
   },
   "outputs": [],
   "source": [
    "evens = range(0,20,2)\n",
    "list(evens)"
   ]
  },
  {
   "cell_type": "raw",
   "metadata": {},
   "source": [
    "Or we could make a list of every odd number that is positive and smaller than 30:"
   ]
  },
  {
   "cell_type": "code",
   "execution_count": null,
   "metadata": {
    "collapsed": true
   },
   "outputs": [],
   "source": [
    "odds = range(1,30,2)\n",
    "list(odds)"
   ]
  },
  {
   "cell_type": "markdown",
   "metadata": {},
   "source": [
    "The logic in both these cases are the same. We pick our starting point (0 for even numbers, 1 for odd numbers), give it an end-point, and tell it to jump by two from one element to the next."
   ]
  },
  {
   "cell_type": "markdown",
   "metadata": {},
   "source": [
    "***\n",
    "#### Another sidenote\n",
    "Now, you may be wondering why we use the `list` command in the examples above. It's because `range` actually produces a data structure called an ***array*** rather than a list. Arrays are more useful when you need to do mathematical operations to the entire set of elements (if you try that with a list `python` will tell you it can't be done). We'll talk about arrays more later on.\n",
    "\n",
    "For our purposes here, just note that the `list` command converts arrays to lists. \n",
    "\n",
    "***"
   ]
  },
  {
   "cell_type": "markdown",
   "metadata": {},
   "source": [
    "One quirky thing about lists is that they can be a mix-and-match of data types. We can put `strings`, `integers`, `floats`, and even other objects (named variables, lists), all in the same list."
   ]
  },
  {
   "cell_type": "code",
   "execution_count": null,
   "metadata": {
    "collapsed": true
   },
   "outputs": [],
   "source": [
    "[\"Today\",7,99.3,\"\", fruits]"
   ]
  },
  {
   "cell_type": "markdown",
   "metadata": {},
   "source": [
    "That said, and this is a bit pedantic, it's good idea (but not required by `python`) to use lists for similar objects or objects which are logically connected in one way or another. It just makes them easier to use that way."
   ]
  },
  {
   "cell_type": "markdown",
   "metadata": {},
   "source": [
    "And as you might have been able to guess from the last example, you can also create the equivalent of a 2-D matrix using a nested structure called a **list of lists**: "
   ]
  },
  {
   "cell_type": "code",
   "execution_count": null,
   "metadata": {
    "collapsed": true
   },
   "outputs": [],
   "source": [
    "M = [[1, 2, 3], [4, 5, 6], [7, 8, 9]]"
   ]
  },
  {
   "cell_type": "markdown",
   "metadata": {},
   "source": [
    "Here, each small list corresponds to a row in the \"matrix.\"  It should be mentioned that for performing matrix operations it makes much more sense to use a `Python` array or matrix, which are better designed for such operations. "
   ]
  },
  {
   "cell_type": "code",
   "execution_count": null,
   "metadata": {
    "collapsed": true
   },
   "outputs": [],
   "source": [
    "M[0]"
   ]
  },
  {
   "cell_type": "code",
   "execution_count": null,
   "metadata": {
    "collapsed": true
   },
   "outputs": [],
   "source": [
    "M[0][1]"
   ]
  },
  {
   "cell_type": "markdown",
   "metadata": {},
   "source": [
    "***\n",
    "***\n",
    "\n",
    "# Checkpoint 6 of 12 \n",
    "\n",
    "## Now you try!\n",
    "\n",
    "### Assign the following list to the variable ```my_list```, as shown below:\n",
    "\n",
    "``my_list = ['Queens College', 2020, 'New York City', 'Data Science', 3.1459]``\n",
    "\n",
    "1. Append your name as an element to the list using the ``append()`` method. \n",
    "2. Write an if statement to test whether the ``NYC`` is in ``my_list``. (This should return a ``False``.) \n",
    "3. Write a second if statement to test whether ``2020`` is in ``my_list``. (This should return a ``True``.)\n",
    "4. Return the index of your name in the list using the ``index()`` method. (This should return ``5``...think about why.)"
   ]
  },
  {
   "cell_type": "code",
   "execution_count": null,
   "metadata": {
    "collapsed": true
   },
   "outputs": [],
   "source": []
  },
  {
   "cell_type": "code",
   "execution_count": null,
   "metadata": {
    "collapsed": true
   },
   "outputs": [],
   "source": []
  },
  {
   "cell_type": "code",
   "execution_count": null,
   "metadata": {
    "collapsed": true
   },
   "outputs": [],
   "source": []
  },
  {
   "cell_type": "code",
   "execution_count": null,
   "metadata": {
    "collapsed": true
   },
   "outputs": [],
   "source": []
  },
  {
   "cell_type": "code",
   "execution_count": null,
   "metadata": {
    "collapsed": true
   },
   "outputs": [],
   "source": []
  },
  {
   "cell_type": "markdown",
   "metadata": {},
   "source": [
    "***\n",
    "***\n",
    "\n",
    "## More on Strings and Lists\n",
    "There are just a few more things that really ought to be said about the `methods` for `strings` and `lists`. We've said some of this before, but it's worth repeating.\n",
    "\n",
    "For instance, let's say I have a string:"
   ]
  },
  {
   "cell_type": "code",
   "execution_count": null,
   "metadata": {
    "collapsed": true
   },
   "outputs": [],
   "source": [
    "s = 'Hi, my name is Charlie. Yes, Charlie.'"
   ]
  },
  {
   "cell_type": "markdown",
   "metadata": {},
   "source": [
    "We can split the different pieces of a string into a list using the `.split()` method. By default `python` does splits a string at spaces. So:"
   ]
  },
  {
   "cell_type": "code",
   "execution_count": null,
   "metadata": {
    "collapsed": true
   },
   "outputs": [],
   "source": [
    "s.split() "
   ]
  },
  {
   "cell_type": "markdown",
   "metadata": {},
   "source": [
    "Let's say we don't want to split the string using the space, but instead we want to use the `comma` in the sentence. We can include that in the `.split()` command like so: "
   ]
  },
  {
   "cell_type": "code",
   "execution_count": null,
   "metadata": {
    "collapsed": true
   },
   "outputs": [],
   "source": [
    "s.split(',')"
   ]
  },
  {
   "cell_type": "markdown",
   "metadata": {},
   "source": [
    "And there are other things that we can do with lists that also work with strings. For instance, we can count the number of times some sub-string occurs using a string's `.count()` method. In the examples below, the first asks `python` how many times the letter \"n\" shows up in the string, while the second asks how often \"Charlie\" appears."
   ]
  },
  {
   "cell_type": "code",
   "execution_count": null,
   "metadata": {
    "collapsed": true
   },
   "outputs": [],
   "source": [
    "s.count('n')"
   ]
  },
  {
   "cell_type": "code",
   "execution_count": null,
   "metadata": {
    "collapsed": true
   },
   "outputs": [],
   "source": [
    "s.count('Charlie')"
   ]
  },
  {
   "cell_type": "markdown",
   "metadata": {},
   "source": [
    "We can also make all of the characters uppercase (with the `.upper()` method) or lowercase (with the `.lower()` method)."
   ]
  },
  {
   "cell_type": "code",
   "execution_count": null,
   "metadata": {
    "collapsed": true
   },
   "outputs": [],
   "source": [
    "s.upper()"
   ]
  },
  {
   "cell_type": "code",
   "execution_count": null,
   "metadata": {
    "collapsed": true
   },
   "outputs": [],
   "source": [
    "s.lower()"
   ]
  },
  {
   "cell_type": "markdown",
   "metadata": {},
   "source": [
    "We can even combine methods together! Let's make all of the characters in this string lowercase and let's count the number of times a lowercase `y` appears. We just do one method after the other, in the order we want them done."
   ]
  },
  {
   "cell_type": "code",
   "execution_count": null,
   "metadata": {
    "collapsed": true
   },
   "outputs": [],
   "source": [
    "s.lower().count('y')  # methods that return a string can be chained"
   ]
  },
  {
   "cell_type": "markdown",
   "metadata": {},
   "source": [
    "Or, similarly, how many times a lowercase `y` appears if we capitalize the entire string. "
   ]
  },
  {
   "cell_type": "code",
   "execution_count": null,
   "metadata": {
    "collapsed": true
   },
   "outputs": [],
   "source": [
    "s.upper().count('y') # Remember, it's case-sensitive."
   ]
  },
  {
   "cell_type": "markdown",
   "metadata": {},
   "source": [
    "One weird thing you can do in `python` is `str.join(some_sequence)`, which will take each item of `some_sequence` and stick them together with the value of `str` in-between, making a single large string. You might want to read that last sentence again slowly, since it's a bit of a mouthful. It may seem like a crazy thing to do, but it's actually pretty useful whem converting data into comma-separated values. For example:"
   ]
  },
  {
   "cell_type": "code",
   "execution_count": null,
   "metadata": {
    "collapsed": true,
    "scrolled": true
   },
   "outputs": [],
   "source": [
    "','.join(s.split())"
   ]
  },
  {
   "cell_type": "markdown",
   "metadata": {},
   "source": [
    "This one last tidbit, is confusing. \n",
    "\n",
    "Many of these **string** `methods` don't save the operation you're doing to the string. So, if you wanted `s` to be uppercase, you'll need to save it to itself. \n",
    "\n"
   ]
  },
  {
   "cell_type": "code",
   "execution_count": null,
   "metadata": {
    "collapsed": true
   },
   "outputs": [],
   "source": [
    "s.upper()\n",
    "s"
   ]
  },
  {
   "cell_type": "code",
   "execution_count": null,
   "metadata": {
    "collapsed": true
   },
   "outputs": [],
   "source": [
    "s = s.upper()\n",
    "s"
   ]
  },
  {
   "cell_type": "markdown",
   "metadata": {},
   "source": [
    "If you called `.append()` to a list, you wouldn't need to save the list to itself to save the change. "
   ]
  },
  {
   "cell_type": "markdown",
   "metadata": {},
   "source": [
    "***\n",
    "*** \n",
    "\n",
    "# Checkpoint 7 of 12 \n",
    "\n",
    "## Write your favorite quote or lyric as one single string to the variable ``my_string``.\n",
    "\n",
    "### For example,  ``my_string = \"the sun will come out tomorrow\"``\n",
    "\n",
    "1. Convert ``my_string`` to title case, using the method called ``.title()``. (This works in a similar fashion as ``.upper()`` or ``.lower()``.   \n",
    "2. Now, turn the newly title-cased ``my_string`` into a list and split by the white space. Save it as ``my_string_list``. \n",
    "3. Finally, join ``my_string_list`` together using the ``.join()`` method. "
   ]
  },
  {
   "cell_type": "code",
   "execution_count": null,
   "metadata": {
    "collapsed": true
   },
   "outputs": [],
   "source": []
  },
  {
   "cell_type": "code",
   "execution_count": null,
   "metadata": {
    "collapsed": true
   },
   "outputs": [],
   "source": []
  },
  {
   "cell_type": "code",
   "execution_count": null,
   "metadata": {
    "collapsed": true
   },
   "outputs": [],
   "source": []
  },
  {
   "cell_type": "code",
   "execution_count": null,
   "metadata": {
    "collapsed": true
   },
   "outputs": [],
   "source": []
  },
  {
   "cell_type": "code",
   "execution_count": null,
   "metadata": {
    "collapsed": true
   },
   "outputs": [],
   "source": []
  },
  {
   "cell_type": "markdown",
   "metadata": {},
   "source": [
    "***\n",
    "***\n",
    "\n",
    "## Loops and Iteration"
   ]
  },
  {
   "cell_type": "markdown",
   "metadata": {},
   "source": [
    "In programming, we often want to repeat an operation multiple times.  This repetition, known as **iteration**, can be done using a **loop**.  There are two common types of loop: the **while loop** and the **for loop**."
   ]
  },
  {
   "cell_type": "markdown",
   "metadata": {},
   "source": [
    "The `for` loop has a simple format:"
   ]
  },
  {
   "cell_type": "code",
   "execution_count": null,
   "metadata": {
    "collapsed": true
   },
   "outputs": [],
   "source": [
    "for i in [0, 1, 2, 3]:\n",
    "    print(\"The square of \",i,\" is \",i * i)"
   ]
  },
  {
   "cell_type": "markdown",
   "metadata": {},
   "source": [
    "The *iterator* (`i` here, though you can use almost anything you like) takes the a new value each time through the loop. We can then use `i` like a normal variable inside the loop. In the first time through the loop, `i` takes the value of element 0 of the accompanying list, which lets `python` compute `0 * 0`. The second time through it takes the value of element 2, telling `python` to computer `1 * 1`.\n",
    "\n",
    "***Note*** that without the identation, this code will fail: "
   ]
  },
  {
   "cell_type": "code",
   "execution_count": null,
   "metadata": {
    "collapsed": true
   },
   "outputs": [],
   "source": [
    "for i in [0, 1, 2, 3]:\n",
    "print(\"The square of \",i,\" is \",i * i)"
   ]
  },
  {
   "cell_type": "markdown",
   "metadata": {},
   "source": [
    "(Important class note: in `Jupyter Notebook` you can mix tabs with spaces when you indent, however in `iPython`, which you'll be using for our labs and your final project, you ***cannot***!)"
   ]
  },
  {
   "cell_type": "markdown",
   "metadata": {},
   "source": [
    "The `range()` function (introduced earlier) is a more compact way of making the `for` statement execute loops of a specified length:"
   ]
  },
  {
   "cell_type": "code",
   "execution_count": null,
   "metadata": {
    "collapsed": true
   },
   "outputs": [],
   "source": [
    "for i in range(4):\n",
    "    print(\"The square of \",i,\" is \",i * i)"
   ]
  },
  {
   "cell_type": "markdown",
   "metadata": {},
   "source": [
    "***\n",
    "The `while` loop has a different structure:"
   ]
  },
  {
   "cell_type": "code",
   "execution_count": null,
   "metadata": {
    "collapsed": true
   },
   "outputs": [],
   "source": [
    "i = 0\n",
    "while i < 4:\n",
    "    print(\"The square of \",i,\" is \",i * i)\n",
    "    #i = i + 1"
   ]
  },
  {
   "cell_type": "markdown",
   "metadata": {},
   "source": [
    "The variable `i` here is called a **loop counter**: as the name suggests, it keeps track of how many loops the code has executed.  Note that for a `while` loop you have to both *initialize* (give an initial value for) and *increment* (increase, at the end of the loop) the loop counter yourself, whereas as the next example below shows, the `for` loop doesn't actually need a counter, and so is more compact.  If you forget to increment the counter, the `while` loop will run in an infinite loop, forever evaluating its code for the first value of the counter.  ***Make sure always to increment a `while` loop counter!***\n",
    "\n",
    "(If you forget to initialize the counter, the loop may crash, since the computer won't know the counter's value.)  \n",
    "\n",
    "In both types of loop, every line in the block of indented code below the `for` or `while` is part of the loop.  When the loop ends, execution of the program continues with the ***first non-indented line below the loop***. \n",
    "\n",
    "(Other programming languages identify the body of a loop using syntax other than indentation, e.g., by enclosing it in braces { }.)"
   ]
  },
  {
   "cell_type": "markdown",
   "metadata": {},
   "source": [
    "Note also that `for` loop runs for a *fixed* number of cycles, specified by the user.  The `while` loop is more flexible, though it can be more unpredictable in the sense that the number of cycles may not be explicitly predetermined -- it depends on the `while` condition, and possibly on a variety of parameters/variables.  As a somewhat contrived example, imagine a `while` condition that depends on the value of a random variable (i.e., one determined by a random-number generator) -- it would be impossible for us to predict when such a loop would terminate.  Generally speaking, if a loop is meant run for a known, fixed number of cycles, you should use a `for` loop."
   ]
  },
  {
   "cell_type": "markdown",
   "metadata": {},
   "source": [
    "Other structures can be used in the first lines of the `for` and `while` loops, for example:  "
   ]
  },
  {
   "cell_type": "code",
   "execution_count": null,
   "metadata": {
    "collapsed": true
   },
   "outputs": [],
   "source": [
    "days_of_the_week = [\"Sunday\",\"Monday\",\"Tuesday\",\"Wednesday\",\"Thursday\",\"Friday\",\"Saturday\"]"
   ]
  },
  {
   "cell_type": "code",
   "execution_count": null,
   "metadata": {
    "collapsed": true
   },
   "outputs": [],
   "source": [
    "for day in days_of_the_week:\n",
    "    print(day)"
   ]
  },
  {
   "cell_type": "markdown",
   "metadata": {},
   "source": [
    "This code snippet goes through each element of the list called **days_of_the_week** and assigns it successively to the variable **day**. It then executes everything in the indented block (in this case only one line of code, the print statement) using each of those variable assignments. When the program has gone through every element of the list, it exits the block.\n",
    "\n",
    "Loops are *very* powerful tools that are used abundantly in data analysis and computation."
   ]
  },
  {
   "cell_type": "markdown",
   "metadata": {},
   "source": [
    "Note here, that you could have called variable `day` anything. See the example below: "
   ]
  },
  {
   "cell_type": "code",
   "execution_count": null,
   "metadata": {
    "collapsed": true
   },
   "outputs": [],
   "source": [
    "for blahblahblah in days_of_the_week:\n",
    "    print(blahblahblah)"
   ]
  },
  {
   "cell_type": "markdown",
   "metadata": {},
   "source": [
    "There are a number of ways to make `python` do more complex tasks with loops, though it's not crucial to understand these right away. I'll give two examples, anyway, in case you find yourself needing inspiration. **Feel free to skip ahead to the next section, \"break and continue statements\", if you would prefer.**\n",
    "\n",
    "***"
   ]
  },
  {
   "cell_type": "markdown",
   "metadata": {},
   "source": [
    "The first approach is to create loops within loops (**nested loops**). Say you're playing with a set of dice, and you want to know every possible combination that could appear, so you can calculate some probabilities (or, more realistically, you want to cycle through every cell in a matrix). You can just loop through all the values on one die for each value on the other die:"
   ]
  },
  {
   "cell_type": "code",
   "execution_count": null,
   "metadata": {
    "collapsed": true
   },
   "outputs": [],
   "source": [
    "for i in range(1,7):\n",
    "    for j in range(1,7):\n",
    "        print(i,j)"
   ]
  },
  {
   "cell_type": "markdown",
   "metadata": {},
   "source": [
    "You can obviously nest as many loops as you want.\n",
    "\n",
    "The second approach is more complicated: it involves asking `python` to loop through two lists at the same time. Imagine you want to make a calendar for March 2018. Your loop will need to iterate through the days of the week, and the days of the month *at the same time*. `Python` makes room for that in its `for` loop syntax, which becomes: `for i, j in zip(1st_list, 2nd_list)`. The idea here is that each time through the loop `i` will take the value of the next element in `1st_list`, while `j` will take the value of the next element in `2nd_list`. `zip()` is just a function for combining lists together into paired elements (or `tuples`). So if your first list contains the days of the week, and your second list contains the days of the month, `zip()` will create a list containing `[Sunday, 1], [Monday, 2], [Wednesday, 3]...` and so on.\n",
    "\n",
    "Put together it looks like this:"
   ]
  },
  {
   "cell_type": "code",
   "execution_count": null,
   "metadata": {
    "collapsed": true
   },
   "outputs": [],
   "source": [
    "days_of_the_month = range(1, 32)\n",
    "for day_number, day_name in zip(days_of_the_month, days_of_the_week):\n",
    "    print(day_name + \", March\", day_number)"
   ]
  },
  {
   "cell_type": "markdown",
   "metadata": {},
   "source": [
    "It didn't work quite right, did it? That's because zip() stops making pairs as soon as one list runs out of elements--our list of days of the week in this case. We can fix this by making `days_of_the_week` repeat itself until it's longer than days_of_the_month. Just a little tweak and it works:"
   ]
  },
  {
   "cell_type": "code",
   "execution_count": null,
   "metadata": {
    "collapsed": true
   },
   "outputs": [],
   "source": [
    "days_of_the_month = range(1, 32)\n",
    "for day_number, day_name in zip(days_of_the_month, 5*days_of_the_week):\n",
    "    print(day_name + \", March\", day_number)"
   ]
  },
  {
   "cell_type": "markdown",
   "metadata": {},
   "source": [
    "***\n",
    "## `break` and `continue` statements\n",
    "You can manage your loops in more detail using `break` and `continue` statements. \n",
    "\n",
    "A `break` statement, as the name suggests, will break you out of the smallest enclosing loop.\n",
    "\n",
    "Let's create two lists that have related data, specifically names of Game of Thrones characters' first names (e.g., Jamie, Cersei, Jon, Sansa) and their last names (e.g., (Jamie) Lannister, (Cersei) Lannister, (Jon) Snow, (Sansa) Stark)."
   ]
  },
  {
   "cell_type": "code",
   "execution_count": null,
   "metadata": {
    "collapsed": true
   },
   "outputs": [],
   "source": [
    "names = ['Jamie', 'Cersei', 'Jon', 'Sansa']\n",
    "houses = ['Lannister', 'Lannister', 'Snow', 'Stark']"
   ]
  },
  {
   "cell_type": "markdown",
   "metadata": {},
   "source": [
    "In this example, just like the last one you saw, we can loop through both lists together (because they are the same length and have data that correspond to each other) with the `zip()` function. It \"zips\" the two lists together.\n",
    "\n",
    "(Note that lists need to be in order for them to correspond. I.e., index 0 must have \"Jamie\" in the names list and \"Lannister\" in index 0 in the houses list for them to correspond.)\n",
    "\n",
    "Now, let's ***completely stop*** the `for` loop the very first instance where the last name `Snow` comes up."
   ]
  },
  {
   "cell_type": "code",
   "execution_count": null,
   "metadata": {
    "collapsed": true
   },
   "outputs": [],
   "source": [
    "for name, house in zip(names, houses):\n",
    "    if house == 'Snow':\n",
    "        break\n",
    "    else:\n",
    "        print(name, house)"
   ]
  },
  {
   "cell_type": "markdown",
   "metadata": {},
   "source": [
    "Or, let's say we just want to skip over `Jon Snow.` \n",
    "\n",
    "Here, a `continue` statement will simply skip over to the next item in the iterator, instead of breaking out of and completely stopping the loop."
   ]
  },
  {
   "cell_type": "code",
   "execution_count": null,
   "metadata": {
    "collapsed": true
   },
   "outputs": [],
   "source": [
    "for name, house in zip(names, houses):\n",
    "    if house == 'Snow':\n",
    "        continue  # compare to the previous example where we stopped the loop at Snow, now we simply skip it\n",
    "    else:\n",
    "        print(name, house)"
   ]
  },
  {
   "cell_type": "markdown",
   "metadata": {},
   "source": [
    "***\n",
    "***\n",
    "\n",
    "# Checkpoint 8 of 10\n",
    "\n",
    "## Now you try!\n",
    "\n",
    "### Replicate the for-loop above with any type of pairing that is similar to the Game of Thrones ``names`` and the ``houses`` example.\n",
    "### Just be sure to use both the ``continue`` and the ``break`` statements in your for-loop and if-else statement. "
   ]
  },
  {
   "cell_type": "code",
   "execution_count": null,
   "metadata": {
    "collapsed": true
   },
   "outputs": [],
   "source": []
  },
  {
   "cell_type": "code",
   "execution_count": null,
   "metadata": {
    "collapsed": true
   },
   "outputs": [],
   "source": []
  },
  {
   "cell_type": "code",
   "execution_count": null,
   "metadata": {
    "collapsed": true
   },
   "outputs": [],
   "source": []
  },
  {
   "cell_type": "code",
   "execution_count": null,
   "metadata": {
    "collapsed": true
   },
   "outputs": [],
   "source": []
  },
  {
   "cell_type": "code",
   "execution_count": null,
   "metadata": {
    "collapsed": true
   },
   "outputs": [],
   "source": []
  },
  {
   "cell_type": "markdown",
   "metadata": {
    "collapsed": true
   },
   "source": [
    "***\n",
    "***\n",
    "\n",
    "## Other Python Data Structures\n",
    "There are a very more native data structures that you ought to be aware of. Each has its advantages and drawbacks, depending on the task at hand. There's no one right way to do anything, but there are better ways of doing certain things with the right data structure. \n",
    "\n",
    "### `dict` (dictionary)\n",
    "The most useful data structure in `python` (my very personal opinion)! Also known as *associative arrays* or *hash tables* in other languages, a `python` dictionary maps *hashable* values to *arbitrary* objects. Dictionaries can be created by placing a comma-separated list of `key:value` pairs within curly braces. Just remember that the `key` must be immutable (like a string)."
   ]
  },
  {
   "cell_type": "code",
   "execution_count": null,
   "metadata": {
    "collapsed": true
   },
   "outputs": [],
   "source": [
    "me = {'name':'Charlie', 'email':'charles.gomez@qc.cuny.edu'}\n",
    "print(me)"
   ]
  },
  {
   "cell_type": "markdown",
   "metadata": {},
   "source": [
    "You can assign new keys to existing dictionaries."
   ]
  },
  {
   "cell_type": "code",
   "execution_count": null,
   "metadata": {
    "collapsed": true,
    "scrolled": true
   },
   "outputs": [],
   "source": [
    "me['cel'] = '212-123-4567'\n",
    "print(me)"
   ]
  },
  {
   "cell_type": "markdown",
   "metadata": {},
   "source": [
    "Or delete existing `key:value` pairs with the `del` statement."
   ]
  },
  {
   "cell_type": "code",
   "execution_count": null,
   "metadata": {
    "collapsed": true,
    "scrolled": false
   },
   "outputs": [],
   "source": [
    "del me['email']\n",
    "print(me)"
   ]
  },
  {
   "cell_type": "markdown",
   "metadata": {},
   "source": [
    "The `key` of a dictionary can't be a list (because lists are mutable), but the `value` sure can!"
   ]
  },
  {
   "cell_type": "code",
   "execution_count": null,
   "metadata": {
    "collapsed": true
   },
   "outputs": [],
   "source": [
    "me['siblings'] = ['Nicole', 'Jaime']\n",
    "print(me)"
   ]
  },
  {
   "cell_type": "markdown",
   "metadata": {},
   "source": [
    "Use the `keys()` method of `dictionary` objects to get a list of the keys used in the dictionary."
   ]
  },
  {
   "cell_type": "code",
   "execution_count": null,
   "metadata": {
    "collapsed": true
   },
   "outputs": [],
   "source": [
    "me.keys()"
   ]
  },
  {
   "cell_type": "markdown",
   "metadata": {},
   "source": [
    "And use the `in` keyword (compatible with all lists) to see if the a certain key exists in the dictionary."
   ]
  },
  {
   "cell_type": "code",
   "execution_count": null,
   "metadata": {
    "collapsed": true
   },
   "outputs": [],
   "source": [
    "'name' in me.keys()"
   ]
  },
  {
   "cell_type": "code",
   "execution_count": null,
   "metadata": {
    "collapsed": true
   },
   "outputs": [],
   "source": [
    "'email' in me.keys()"
   ]
  },
  {
   "cell_type": "markdown",
   "metadata": {},
   "source": [
    "When the keys are simple strings, it is sometimes easier to specify pairs using the `dict` constructor."
   ]
  },
  {
   "cell_type": "code",
   "execution_count": null,
   "metadata": {
    "collapsed": true
   },
   "outputs": [],
   "source": [
    "me = dict(name='Charles', email='charles.gomez@qc.cuny.edu', siblings=['Nicole', 'Jaime'])\n",
    "print(me)"
   ]
  },
  {
   "cell_type": "markdown",
   "metadata": {},
   "source": [
    "The `iteritems()` method lets you loop over each `key:value` pair."
   ]
  },
  {
   "cell_type": "code",
   "execution_count": null,
   "metadata": {
    "collapsed": true
   },
   "outputs": [],
   "source": [
    "for key, value in me.items():\n",
    "    print(key, ':', value)"
   ]
  },
  {
   "cell_type": "markdown",
   "metadata": {},
   "source": [
    "***\n",
    "***\n",
    "\n",
    "# Checkpoint 9 of 12\n",
    "\n",
    "## Now you try!\n",
    "\n",
    "1). Create your own dictionary (any type you'd like!), similar to this example:\n",
    "\n",
    "```Python\n",
    "    me = {'name':'Charlie', 'email':'charles.gomez@qc.cuny.edu'}\n",
    "```\n",
    "\n",
    "2). Pick any key in your dictionary and assign it a new value. \n"
   ]
  },
  {
   "cell_type": "code",
   "execution_count": null,
   "metadata": {
    "collapsed": true
   },
   "outputs": [],
   "source": []
  },
  {
   "cell_type": "code",
   "execution_count": null,
   "metadata": {
    "collapsed": true
   },
   "outputs": [],
   "source": []
  },
  {
   "cell_type": "code",
   "execution_count": null,
   "metadata": {
    "collapsed": true
   },
   "outputs": [],
   "source": []
  },
  {
   "cell_type": "code",
   "execution_count": null,
   "metadata": {
    "collapsed": true
   },
   "outputs": [],
   "source": []
  },
  {
   "cell_type": "markdown",
   "metadata": {},
   "source": [
    "***\n",
    "***\n",
    "\n",
    "## User Defined Functions\n",
    "\n",
    "In all programming languages, a function is a block of program statements which can be used repetitively in a program. It saves you time! Instead of writing the same bloc of code several times over, a function can be written and declared, and then used as many times as you need.\n",
    "\n",
    "In fact, we use functions all of the time without realizing it. Many functions are built-in to `Python`. For instance, `print()` is a function that prints whatever is passed in to it to screen. Similarly, `range()` prints to screen the range of numbers passed into it, just like `print()`.\n",
    "\n",
    "We can define functions according to our needs. We can pass in varibles into functions or not. The only defining characteristic of a function is that it needs to do something. "
   ]
  },
  {
   "cell_type": "markdown",
   "metadata": {},
   "source": [
    "First, let's create a function with no arguments or return value. Instead, it just prints out a string that says \"This Function has no arguments or return value.\"\n",
    "\n",
    "The way you define a function is to use `def` followed by the name of your function and parentheses and capped-off by a colon `:`. \n",
    "\n",
    "And much like the `for` and `while` loops, as well as the logic control statements like `if` and `else`, we indent everything that is defined in the function. In other words, every thing that is part of the function is indented. "
   ]
  },
  {
   "cell_type": "code",
   "execution_count": null,
   "metadata": {
    "collapsed": true
   },
   "outputs": [],
   "source": [
    "def simple():\n",
    "    print('This function has no arguments or return value.')"
   ]
  },
  {
   "cell_type": "markdown",
   "metadata": {},
   "source": [
    "Now, we've defined a function called `simple()`. We can call it multiple times. Let's put it in a `for` loop and call the function five times, as shown below. "
   ]
  },
  {
   "cell_type": "code",
   "execution_count": null,
   "metadata": {
    "collapsed": true
   },
   "outputs": [],
   "source": [
    "for i in [1,2,3,4,5]:\n",
    "    simple()"
   ]
  },
  {
   "cell_type": "markdown",
   "metadata": {},
   "source": [
    "This printed the sentence `This function has no arguments or return value.` five times. We can do a lot more than just printing things to screen. Let's create a function with arguments and a return value. \n",
    "\n",
    "Let's define a function called `addthem` that takes in two numbers and returns their sum. "
   ]
  },
  {
   "cell_type": "code",
   "execution_count": null,
   "metadata": {
    "collapsed": true
   },
   "outputs": [],
   "source": [
    "def addthem(a, b):\n",
    "    return a + b"
   ]
  },
  {
   "cell_type": "markdown",
   "metadata": {},
   "source": [
    "Let's test it out, let's see what the sum is of 25 and 30, which is 55."
   ]
  },
  {
   "cell_type": "code",
   "execution_count": null,
   "metadata": {
    "collapsed": true
   },
   "outputs": [],
   "source": [
    "addthem(25,30)"
   ]
  },
  {
   "cell_type": "markdown",
   "metadata": {},
   "source": [
    "Great! We got the answer we expected. \n",
    "\n",
    "Similar to above, let's call the function five times and pass in numbers 1 through 5 to see how it works at scale. "
   ]
  },
  {
   "cell_type": "code",
   "execution_count": null,
   "metadata": {
    "collapsed": true
   },
   "outputs": [],
   "source": [
    "for i in [1,2,3,4,5]:\n",
    "    print(i, i+1, addthem(i,i+1))"
   ]
  },
  {
   "cell_type": "markdown",
   "metadata": {},
   "source": [
    "As you can see, the number took in two numbers and return their sum. These are simple examples, but functions are a very powerful tool for coding in `Python`."
   ]
  },
  {
   "cell_type": "markdown",
   "metadata": {},
   "source": [
    "***\n",
    "***\n",
    "# Checkpoint 10 of 12\n",
    "\n",
    "## Now you try!\n",
    "\n",
    "### Define your own function. \n",
    "\n",
    "### Make it do whatever you'd like, like returning some string or some operation, etc. Just make sure that the function takes in some parameters. \n",
    "\n",
    "### Test out your new function by feeding in appropriate parameters. "
   ]
  },
  {
   "cell_type": "code",
   "execution_count": null,
   "metadata": {
    "collapsed": true
   },
   "outputs": [],
   "source": []
  },
  {
   "cell_type": "code",
   "execution_count": null,
   "metadata": {
    "collapsed": true
   },
   "outputs": [],
   "source": []
  },
  {
   "cell_type": "code",
   "execution_count": null,
   "metadata": {
    "collapsed": true
   },
   "outputs": [],
   "source": []
  },
  {
   "cell_type": "code",
   "execution_count": null,
   "metadata": {
    "collapsed": true
   },
   "outputs": [],
   "source": []
  },
  {
   "cell_type": "code",
   "execution_count": null,
   "metadata": {
    "collapsed": true
   },
   "outputs": [],
   "source": []
  },
  {
   "cell_type": "markdown",
   "metadata": {},
   "source": [
    "***\n",
    "***\n",
    "\n",
    "## Magic Commands in Jupyter Notebooks and The Unix Shell\n",
    "\n",
    "Finally, we're going to learn how to interface with a unix shell through Jupyter Notebook. A shell is a program whose primary purpose is to read commands and run other programs. \n",
    "\n",
    "Here we're just going to focus on a few basic commands that are relevant to what we've so far covered. Specifically, we'll focus on figuring out what directory we're in, the files that are in the folder, and how to manipulate folders. "
   ]
  },
  {
   "cell_type": "markdown",
   "metadata": {},
   "source": [
    "First, let's list all of the files that are in our current directory. To access the `shell`, we're going to but a percent symbol (`%`) in front of all of our commands. \n",
    "\n",
    "These are called magic commands, shortcuts that significantly extend a Python's capabilities\n",
    "\n",
    "Our first command is `ls`, that lists all of the files in our current directory. \n"
   ]
  },
  {
   "cell_type": "code",
   "execution_count": null,
   "metadata": {
    "collapsed": false
   },
   "outputs": [],
   "source": [
    "%ls"
   ]
  },
  {
   "cell_type": "markdown",
   "metadata": {},
   "source": [
    "You can also list it in order of file size by adding `-ltr` to `ls`. "
   ]
  },
  {
   "cell_type": "code",
   "execution_count": null,
   "metadata": {
    "collapsed": false
   },
   "outputs": [],
   "source": [
    "%ls -ltr"
   ]
  },
  {
   "cell_type": "markdown",
   "metadata": {},
   "source": [
    "Let's make our own directory called `graphics` with the `mkdir` command. \n"
   ]
  },
  {
   "cell_type": "code",
   "execution_count": null,
   "metadata": {
    "collapsed": true
   },
   "outputs": [],
   "source": [
    "%mkdir graphics"
   ]
  },
  {
   "cell_type": "markdown",
   "metadata": {},
   "source": [
    "Now, go inside this folder with the `cd` command\n",
    "\n",
    "**Note:** If you type `%cd` and then press TAB, your terminal should provide you with an outline of all the directories (i.e., folders) you can enter. "
   ]
  },
  {
   "cell_type": "code",
   "execution_count": null,
   "metadata": {
    "collapsed": true
   },
   "outputs": [],
   "source": [
    "%cd graphics"
   ]
  },
  {
   "cell_type": "markdown",
   "metadata": {},
   "source": [
    "Let's list the current dictory"
   ]
  },
  {
   "cell_type": "code",
   "execution_count": null,
   "metadata": {
    "collapsed": true
   },
   "outputs": [],
   "source": [
    "%pwd"
   ]
  },
  {
   "cell_type": "markdown",
   "metadata": {},
   "source": [
    "Great, we're in the `/graphics` folder. \n",
    "\n",
    "Now, let's delete this folder we just created using the `rmdir` command. But first, we need to get out of it. We can move up and down directories using `%cd`. To move \"up\" a directory use `%cd ..`. \n",
    "\n",
    "**Note:** There should be a space between `cd` and `..`, otherwise `%cd ..` won't work. (I.e., `%cd..` won't work.)"
   ]
  },
  {
   "cell_type": "code",
   "execution_count": null,
   "metadata": {
    "collapsed": true
   },
   "outputs": [],
   "source": [
    "%cd .."
   ]
  },
  {
   "cell_type": "markdown",
   "metadata": {},
   "source": [
    "This code moves you \"up\" a lever in the folder hierarchy. \n",
    "\n",
    "Check for yourself."
   ]
  },
  {
   "cell_type": "code",
   "execution_count": null,
   "metadata": {
    "collapsed": true
   },
   "outputs": [],
   "source": [
    "%ls -ltr"
   ]
  },
  {
   "cell_type": "markdown",
   "metadata": {},
   "source": [
    "Notice now that we're back in our original folder. Okay, now let's get rid of the `graphics` folder. "
   ]
  },
  {
   "cell_type": "code",
   "execution_count": null,
   "metadata": {
    "collapsed": true
   },
   "outputs": [],
   "source": [
    "%rmdir graphics"
   ]
  },
  {
   "cell_type": "markdown",
   "metadata": {},
   "source": [
    "Let's test to see if it worked, that the folder is removed. "
   ]
  },
  {
   "cell_type": "code",
   "execution_count": null,
   "metadata": {
    "collapsed": true
   },
   "outputs": [],
   "source": [
    "%ls"
   ]
  },
  {
   "cell_type": "markdown",
   "metadata": {},
   "source": [
    "The folder graphics is gone!"
   ]
  },
  {
   "cell_type": "markdown",
   "metadata": {},
   "source": [
    "Magic commands are also helpful to see what's going on with `Python` behidn the scenes. \n",
    "\n",
    "For instance, you can use magic commands to see what defined variables you already have stored in memory. Just use `%whos` or `%who_ls`\n",
    "\n",
    "* `%whos` displays the variable type plus some extra info: size, contents, etc.\n",
    "* `%who_ls` only displays the variables name"
   ]
  },
  {
   "cell_type": "code",
   "execution_count": null,
   "metadata": {
    "collapsed": false
   },
   "outputs": [],
   "source": [
    "%whos"
   ]
  },
  {
   "cell_type": "code",
   "execution_count": null,
   "metadata": {
    "collapsed": false
   },
   "outputs": [],
   "source": [
    "%who_ls #Returns all current and active variables in memory as a list"
   ]
  },
  {
   "cell_type": "markdown",
   "metadata": {},
   "source": [
    "There are many, many more magic commands than possible to cover here. If you ever want to see **all** of them, just use the command `%quickref`. "
   ]
  },
  {
   "cell_type": "code",
   "execution_count": null,
   "metadata": {
    "collapsed": false
   },
   "outputs": [],
   "source": [
    "%quickref "
   ]
  },
  {
   "cell_type": "markdown",
   "metadata": {},
   "source": [
    "***\n",
    "***\n",
    "\n",
    "# Checkpoint 11 of 12\n",
    "## Now you try!\n",
    "\n",
    "### Let's get comfortable navigating directories using the `%cd` and `%cd ..` and `ls -ltr` commands. \n",
    "### Explore your hard drive space and enter any directory (i.e., folder) you'd like using these commands. \n",
    "\n",
    "### Move in (i.e., `%cd`) and out (i.e., `%cd ..`) of these folders; in other words, down (i.e., `%cd`) and up (i.e., `%cd ..`) the hierarchy of these directories.  \n",
    "\n",
    "### List out the contents for some these directories using `ls -ltr`. \n",
    "\n",
    "### This will become a **very** useful (if not essential) skill to master as you set your working directory. \n",
    "### **Note:** For our purposes, our working directory will be in `Class_Materials`, but you may decide to make your own working directory for homework assignments, so navigating between these directories is VERY important. "
   ]
  },
  {
   "cell_type": "code",
   "execution_count": null,
   "metadata": {
    "collapsed": true
   },
   "outputs": [],
   "source": []
  },
  {
   "cell_type": "code",
   "execution_count": null,
   "metadata": {
    "collapsed": true
   },
   "outputs": [],
   "source": []
  },
  {
   "cell_type": "code",
   "execution_count": null,
   "metadata": {
    "collapsed": true
   },
   "outputs": [],
   "source": []
  },
  {
   "cell_type": "code",
   "execution_count": null,
   "metadata": {
    "collapsed": true
   },
   "outputs": [],
   "source": []
  },
  {
   "cell_type": "code",
   "execution_count": null,
   "metadata": {
    "collapsed": true
   },
   "outputs": [],
   "source": []
  },
  {
   "cell_type": "markdown",
   "metadata": {},
   "source": [
    "***\n",
    "***"
   ]
  },
  {
   "cell_type": "markdown",
   "metadata": {},
   "source": [
    "# Using `wget` to download data from the Internet directly. \n",
    "\n",
    "For your homework assignments, you'll need to procure your own data. (See the syallbus for sources.) Since our emphasis here is cloud-computing, you may be inclined to think that you'll first need to download the dataset to your laptop then upload it to the cloud. \n",
    "\n",
    "Not true!\n",
    "\n",
    "We're going to (somewhat frequently) use a very handy command-line program called `wget`. It is a computer program that retrieves content from web servers.\n",
    "\n",
    "So long as you have the full URL to where the file you want resides, you can use `wget` to read it in directly to your directory! \n",
    "\n",
    "Let's try it out! \n",
    "\n",
    "First `%cd` into your `Class_Materials` directory, if you're not already in there. "
   ]
  },
  {
   "cell_type": "code",
   "execution_count": null,
   "metadata": {
    "collapsed": false
   },
   "outputs": [],
   "source": [
    "%cd Data/"
   ]
  },
  {
   "cell_type": "markdown",
   "metadata": {},
   "source": [
    "To double check, you can always use the present working directory command, or `pwd`. \n",
    "\n",
    "It should read something like\n",
    "\n",
    "```Python\n",
    "                    '/home/cjgomez/Class_Materials/Data'\n",
    "```\n",
    "\n",
    "Where `cjgomez` is my username, and yours should be in its place. If you're not in the `Data` folder, `cd` into it using this path, but swapping my username for yours. "
   ]
  },
  {
   "cell_type": "code",
   "execution_count": null,
   "metadata": {
    "collapsed": false
   },
   "outputs": [],
   "source": [
    "%pwd"
   ]
  },
  {
   "cell_type": "markdown",
   "metadata": {},
   "source": [
    "Great! You should be in your `Data/` folder!\n",
    "\n",
    "We're going to pull in data from Stanford's social network analysis project: SNAP. You can find there website for this particular dataset here: \n",
    "\n",
    "https://snap.stanford.edu/data/github-social.html\n",
    "\n",
    "These data are a social network of different GitHub accounts. Don't worry too much about what that is, what these data are, or social network analysis for that matter. (We'll be talking about SNA later.) We're just using this as an example. \n",
    "\n",
    "On this website, they have a downloadable link to their data, which is zipped. \n",
    "\n",
    "https://snap.stanford.edu/data/git_web_ml.zip\n",
    "\n",
    "If you're not too sure, check to see if the URL of the data you want ends in a recognizable data format (e.g., ZIP, CSV, GZ, etc.)\n",
    "\n",
    "***\n",
    "***\n",
    "\n",
    "Now, let's use `wget` to download the file into our current directory. It's merely `wget` followed by the direct URL to the data you want. \n",
    "\n",
    "If you run the code below successfully, you'll see output similar to this:\n",
    "\n",
    "```Python \n",
    "    --2020-01-29 21:45:57--  https://snap.stanford.edu/data/git_web_ml.zip\n",
    "    Resolving snap.stanford.edu (snap.stanford.edu)... 171.64.75.80\n",
    "    Connecting to snap.stanford.edu (snap.stanford.edu)|171.64.75.80|:443... connected.\n",
    "    HTTP request sent, awaiting response... 200 OK\n",
    "    Length: 2396031 (2.3M) [application/zip]\n",
    "    Saving to: ‘git_web_ml.zip’\n",
    "\n",
    "    100%[======================================>] 2,396,031   2.98MB/s   in 0.8s   \n",
    "\n",
    "    2020-01-29 21:45:58 (2.98 MB/s) - ‘git_web_ml.zip’ saved [2396031/2396031]\n",
    "```\n",
    "***"
   ]
  },
  {
   "cell_type": "code",
   "execution_count": null,
   "metadata": {
    "collapsed": false
   },
   "outputs": [],
   "source": [
    "!wget https://snap.stanford.edu/data/git_web_ml.zip"
   ]
  },
  {
   "cell_type": "markdown",
   "metadata": {},
   "source": [
    "What you want to look out for is the very last line: \n",
    "\n",
    "```Python \n",
    "    2020-01-29 21:45:58 (2.98 MB/s) - ‘git_web_ml.zip’ saved [2396031/2396031]\n",
    "```\n",
    "\n",
    "If you see something that says `saved` followed by a very large number over that same number, that means it worked!\n",
    "\n",
    "However, if this number is much lower and/or if the top number is less than the bottom number, that means either you accidently read in the `HTML` code and/or the download didn't complete. "
   ]
  },
  {
   "cell_type": "markdown",
   "metadata": {},
   "source": [
    "***\n",
    "\n",
    "Let's say you wanted to name the file as something else as you download it, you can easily do that with `wget`! Just add the flag `-O` followed by what you want to rename it to (I'm going to call it `My_New_Zip.zip`), and then the URL of the file. \n",
    "\n",
    "```Python\n",
    "    wget -O My_New_Zip.zip https://snap.stanford.edu/data/git_web_ml.zip\n",
    "```\n",
    "\n",
    "Now, the output file My_New_Zip.zip will instead be saved."
   ]
  },
  {
   "cell_type": "markdown",
   "metadata": {},
   "source": [
    "***\n",
    "\n",
    "Finally, this is a zipped file. To unzip it, all you need to do is use the command `unzip` followed by the file name. \n",
    "\n",
    "If you don't remember the filename, you can always use `ls -ltr`, which will list all of the files in the directory from oldest to newest. The last item displayed should be what you just downloaded. \n",
    "\n",
    "**Sidebar: If your file instead ends in .gz or .tgz, don't use `unzip`. Instead use: `tar -xzf filename.tgz` or `tar -xzf filename.gz`**\n",
    "\n",
    "Let's try it out!"
   ]
  },
  {
   "cell_type": "code",
   "execution_count": null,
   "metadata": {
    "collapsed": false
   },
   "outputs": [],
   "source": [
    "!unzip git_web_ml.zip"
   ]
  },
  {
   "cell_type": "markdown",
   "metadata": {},
   "source": [
    "You should see some output like the following:\n",
    "\n",
    "```Python\n",
    "    Archive:  git_web_ml.zip\n",
    "       creating: git_web_ml/\n",
    "      inflating: git_web_ml/musae_git_edges.csv  \n",
    "      inflating: git_web_ml/musae_git_features.json  \n",
    "      inflating: git_web_ml/musae_git_target.csv  \n",
    "      inflating: git_web_ml/citing.txt   \n",
    "      inflating: git_web_ml/README.txt \n",
    "```\n",
    "\n",
    "The line: \n",
    "\n",
    "```Python\n",
    "      creating: git_web_ml/ \n",
    "```\n",
    "\n",
    "means it created a folder called `git_web_ml/`. Let's `cd` into it and see the files it created. \n",
    "\n",
    "The directory should be something like `/home/cjgomez/Class_Materials/Data/git_web_ml`. "
   ]
  },
  {
   "cell_type": "code",
   "execution_count": null,
   "metadata": {
    "collapsed": false
   },
   "outputs": [],
   "source": [
    "%cd git_web_ml/"
   ]
  },
  {
   "cell_type": "markdown",
   "metadata": {},
   "source": [
    "Let's use `ls -ltr` to list out all of the files in this directory. "
   ]
  },
  {
   "cell_type": "code",
   "execution_count": null,
   "metadata": {
    "collapsed": false
   },
   "outputs": [],
   "source": [
    "%ls -ltr "
   ]
  },
  {
   "cell_type": "markdown",
   "metadata": {},
   "source": [
    "It looks like it worked, but let's be extra diligent. \n",
    "\n",
    "Let's take a peek at the first file: `musae_git_target.csv`. \n",
    "\n",
    "We can use the Bash command `head` to look at the first few rows in the file. (Alternatively, you can use `tail` to look at the last rows, as well.)"
   ]
  },
  {
   "cell_type": "code",
   "execution_count": null,
   "metadata": {
    "collapsed": false
   },
   "outputs": [],
   "source": [
    "!head musae_git_target.csv"
   ]
  },
  {
   "cell_type": "markdown",
   "metadata": {},
   "source": [
    "Looks good!\n",
    "\n",
    "**NOTE:** If you use `head` or `tail` and see that it looks like a bunch of `HTML` code, it means that you didn't download the file, but instead the website. This happens a lot, especially in repository sites where you need to first sign-in or press some kind of agreement or waiver before downloading. Be on the lookout for this!"
   ]
  },
  {
   "cell_type": "markdown",
   "metadata": {},
   "source": [
    "***\n",
    "***\n",
    "\n",
    "# Checkpoint 12 of 12\n",
    "## Now you try!\n",
    "\n",
    "### Now that you're more comfortable with navigating between directories, exit out of `Class_Materials` (**hint**, use `%cd ..`) and create a directory where you'll write your homework assignments. (Be sure to use `pwd` to make sure you're no longer in `Class_Materials`!)\n",
    "\n",
    "### In `Class_Materials`, use `mkdir` and create a new directory called `Homework`. In other words, `Class_Materials` and `Homework` should be in the same  `home` directory and listed next to each other.  \n",
    "\n",
    "### Now, `%cd` into `Homework` then create a new directory called `Data`. This is where you'll put the data you use for your future homework. (In other words, the hierarchy should look something like `Homework/Data`.)\n",
    "\n",
    "### Next, `%cd` into your new directory `Data` (Again, this `Data/` folder is in your `Homework/` directory and not  `Class_Materials`). \n",
    "\n",
    "### Finally, use `wget` to download some test data. Specifically, use  the flag `-O` in `wget` and rename the CSV from `CogsleyServices-SalesData-US.csv` to `FirstData.csv` as shown below:  \n",
    "\n",
    "```Python \n",
    "    !wget -O FirstData.csv https://raw.githubusercontent.com/bsullins/bensullins.com-freebies/master/CogsleyServices-SalesData-US.csv\n",
    "```\n",
    "\n",
    "### Use `head` on `FirstData.csv` to check it and see the first few rows. "
   ]
  },
  {
   "cell_type": "code",
   "execution_count": null,
   "metadata": {
    "collapsed": false
   },
   "outputs": [],
   "source": []
  },
  {
   "cell_type": "code",
   "execution_count": null,
   "metadata": {
    "collapsed": false
   },
   "outputs": [],
   "source": []
  },
  {
   "cell_type": "code",
   "execution_count": null,
   "metadata": {
    "collapsed": true
   },
   "outputs": [],
   "source": []
  },
  {
   "cell_type": "code",
   "execution_count": null,
   "metadata": {
    "collapsed": true
   },
   "outputs": [],
   "source": []
  },
  {
   "cell_type": "code",
   "execution_count": null,
   "metadata": {
    "collapsed": true
   },
   "outputs": [],
   "source": []
  }
 ],
 "metadata": {
  "kernelspec": {
   "display_name": "Python 3.6",
   "language": "python",
   "name": "python3.6"
  },
  "language_info": {
   "codemirror_mode": {
    "name": "ipython",
    "version": 3
   },
   "file_extension": ".py",
   "mimetype": "text/x-python",
   "name": "python",
   "nbconvert_exporter": "python",
   "pygments_lexer": "ipython3",
   "version": "3.6.0"
  }
 },
 "nbformat": 4,
 "nbformat_minor": 2
}
